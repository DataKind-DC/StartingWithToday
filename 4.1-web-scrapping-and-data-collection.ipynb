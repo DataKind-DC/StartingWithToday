{
 "cells": [
  {
   "cell_type": "markdown",
   "metadata": {},
   "source": [
    "# Web Scraping for Non-profit organization's profile information"
   ]
  },
  {
   "cell_type": "markdown",
   "metadata": {},
   "source": [
    "This script will extract the names and URLs of the following non-profit organizations from [idealist.org](https://www.idealist.org/es) to create a directory and map of organizations providing health and human services in the Washington, DC, metropolitan area."
   ]
  },
  {
   "cell_type": "markdown",
   "metadata": {},
   "source": [
    "### Import the required libraries and set up a webdriver to scrape the data using selenium"
   ]
  },
  {
   "cell_type": "code",
   "execution_count": 1,
   "metadata": {
    "ExecuteTime": {
     "end_time": "2022-11-11T14:35:15.107764Z",
     "start_time": "2022-11-11T14:35:12.717054Z"
    }
   },
   "outputs": [],
   "source": [
    "import requests\n",
    "from bs4 import BeautifulSoup\n",
    "from selenium import webdriver\n",
    "from selenium.webdriver.chrome.service import Service\n",
    "\n",
    "import pandas as pd"
   ]
  },
  {
   "cell_type": "markdown",
   "metadata": {},
   "source": [
    "Create a container for the organization URL data to extract the data about each organization from their `idealist.org` profiles."
   ]
  },
  {
   "cell_type": "code",
   "execution_count": 2,
   "metadata": {
    "ExecuteTime": {
     "end_time": "2022-11-05T15:59:06.457416Z",
     "start_time": "2022-11-05T15:59:06.449955Z"
    }
   },
   "outputs": [],
   "source": [
    "org_url = []"
   ]
  },
  {
   "cell_type": "code",
   "execution_count": 3,
   "metadata": {
    "ExecuteTime": {
     "end_time": "2022-11-05T16:03:47.990966Z",
     "start_time": "2022-11-05T15:59:06.459941Z"
    },
    "scrolled": false
   },
   "outputs": [],
   "source": [
    "for i in range(1,51):\n",
    "    ser = Service('chromedriver/chromedriver')\n",
    "    op = webdriver.ChromeOptions()\n",
    "    driver = webdriver.Chrome(service=ser, options=op)\n",
    "    \n",
    "    URL = f'https://www.idealist.org/en/organizations?page={i}&q='    \n",
    "    driver.get(URL)\n",
    "    \n",
    "    html = driver.page_source\n",
    "    soup = BeautifulSoup(html)\n",
    "    \n",
    "    data = soup.findAll('a',{'class':'sc-uln2n7-0 eIARxM'})\n",
    "    \n",
    "    try:\n",
    "        for val in data:            \n",
    "            org_url.append('https://www.idealist.org'+str(val).split(' href=')[1].split(' ')[0].replace('\"',''))\n",
    "    \n",
    "    except:\n",
    "        org_url.append('No value')\n",
    "    \n",
    "    driver.close()"
   ]
  },
  {
   "cell_type": "markdown",
   "metadata": {},
   "source": [
    "Extract information from every organization using their URLs."
   ]
  },
  {
   "cell_type": "code",
   "execution_count": 4,
   "metadata": {
    "ExecuteTime": {
     "end_time": "2022-11-05T16:03:48.015796Z",
     "start_time": "2022-11-05T16:03:47.996976Z"
    }
   },
   "outputs": [],
   "source": [
    "org_name = []\n",
    "org_location = []\n",
    "org_website = []\n",
    "org_about = []\n",
    "org_services = []\n",
    "org_type = []"
   ]
  },
  {
   "cell_type": "code",
   "execution_count": 5,
   "metadata": {
    "ExecuteTime": {
     "end_time": "2022-11-05T17:16:44.941878Z",
     "start_time": "2022-11-05T16:03:48.019293Z"
    }
   },
   "outputs": [],
   "source": [
    "for url in org_url:    \n",
    "    \n",
    "    ser = Service('chromedriver/chromedriver')\n",
    "    op = webdriver.ChromeOptions()\n",
    "    driver = webdriver.Chrome(service=ser, options=op)\n",
    "        \n",
    "    driver.get(url)\n",
    "    \n",
    "    html = driver.page_source\n",
    "    soup = BeautifulSoup(html)\n",
    "    \n",
    "    try:        \n",
    "        org_name.append((url,soup.findAll('h1',{'class':'sc-1q4cy5p-0 dyiqpT'})))\n",
    "    \n",
    "        org_location.append((url,soup.findAll('div',{'class':'sc-59ntl3-0 gpJdOX'})))\n",
    "        \n",
    "        org_website.append((url,\n",
    "                            soup.findAll('a',{'class':'sc-dlo1ho-0 QxmwN'})))\n",
    "        \n",
    "        org_about.append((url,soup.findAll('div',{'class':'sc-n1vyd2-1'})))\n",
    "        \n",
    "        org_services.append((url,soup.findAll('li',{'class':'sc-59ntl3-0 gNRvwb'})))\n",
    "        \n",
    "        org_type.append((url,soup.findAll('h5',{'class':'sc-1q4cy5p-0 POIXj'})))\n",
    "        \n",
    "    except:\n",
    "        org_name.append((url,'No value'))\n",
    "        org_location.append((url,'No value'))\n",
    "        org_website.append((url,'No value'))\n",
    "        org_about.append((url,'No value'))\n",
    "        org_services.append((url,'No value'))\n",
    "        org_type.append((url,'No value'))\n",
    "    \n",
    "    driver.close()"
   ]
  },
  {
   "cell_type": "markdown",
   "metadata": {},
   "source": [
    "Combine all data frames into one dataframe."
   ]
  },
  {
   "cell_type": "code",
   "execution_count": 6,
   "metadata": {
    "ExecuteTime": {
     "end_time": "2022-11-05T17:16:45.074139Z",
     "start_time": "2022-11-05T17:16:44.946353Z"
    }
   },
   "outputs": [],
   "source": [
    "name = pd.DataFrame({'org_url':[i[0] for i in org_name],'name':[i[1] for i in org_name]}).drop_duplicates(subset=['org_url'])\n",
    "location = pd.DataFrame({'org_url':[i[0] for i in org_location],'location':[i[1] for i in org_location]}).drop_duplicates(subset=['org_url'])\n",
    "website = pd.DataFrame({'org_url':[i[0] for i in org_website],'website':[i[1] for i in org_website]}).drop_duplicates(subset=['org_url'])\n",
    "about = pd.DataFrame({'org_url':[i[0] for i in org_about],'about':[i[1] for i in org_about]}).drop_duplicates(subset=['org_url'])\n",
    "services = pd.DataFrame({'org_url':[i[0] for i in org_services],'services':[i[1] for i in org_services]}).drop_duplicates(subset=['org_url'])\n",
    "types = pd.DataFrame({'org_url':[i[0] for i in org_type],'org_type':[i[1] for i in org_type]}).drop_duplicates(subset=['org_url'])"
   ]
  },
  {
   "cell_type": "code",
   "execution_count": 7,
   "metadata": {
    "ExecuteTime": {
     "end_time": "2022-11-05T17:16:45.141939Z",
     "start_time": "2022-11-05T17:16:45.076427Z"
    }
   },
   "outputs": [],
   "source": [
    "for feature in [location,website,about,services,types]:\n",
    "    name = name.merge(feature, on = 'org_url', how ='left', indicator = True)\n",
    "    name = name[name['_merge'] == 'both']\n",
    "    name.drop(columns=['_merge'],inplace=True)"
   ]
  },
  {
   "cell_type": "code",
   "execution_count": 8,
   "metadata": {
    "ExecuteTime": {
     "end_time": "2022-11-05T17:16:45.150319Z",
     "start_time": "2022-11-05T17:16:45.147418Z"
    }
   },
   "outputs": [],
   "source": [
    "df = name"
   ]
  },
  {
   "cell_type": "markdown",
   "metadata": {},
   "source": [
    "Create a column for the location of each organization to identify their latitude and longitude using the Google Maps API."
   ]
  },
  {
   "cell_type": "code",
   "execution_count": 9,
   "metadata": {
    "ExecuteTime": {
     "end_time": "2022-11-05T17:16:55.589206Z",
     "start_time": "2022-11-05T17:16:45.154512Z"
    }
   },
   "outputs": [],
   "source": [
    "df['location'] = [str(loc).split('>Share')[1].split('<div class=\"sc-59ntl3-0 gpJdOX\">')[1].split('<')[0] for loc \\\n",
    "                  in df['location']]"
   ]
  },
  {
   "cell_type": "markdown",
   "metadata": {},
   "source": [
    "Using the URLs obtained and the organizations' addresses, use the Google Maps API to find the latitude and longitude of each organization's address to plot data on map."
   ]
  },
  {
   "cell_type": "code",
   "execution_count": 10,
   "metadata": {
    "ExecuteTime": {
     "end_time": "2022-11-05T17:16:55.597222Z",
     "start_time": "2022-11-05T17:16:55.591492Z"
    }
   },
   "outputs": [],
   "source": [
    "df['location_url'] = ['+'.join(address.split(' ')) for address in df['location']]"
   ]
  },
  {
   "cell_type": "code",
   "execution_count": 11,
   "metadata": {
    "ExecuteTime": {
     "end_time": "2022-11-05T17:16:55.623210Z",
     "start_time": "2022-11-05T17:16:55.602565Z"
    }
   },
   "outputs": [],
   "source": [
    "address_lat_long = []"
   ]
  },
  {
   "cell_type": "markdown",
   "metadata": {},
   "source": [
    "To access the longitude and latitude coordinates based on the address of each organization, please obtain a [Google Maps API key here](https://developers.google.com/maps) and replace the key parameter better with your API key."
   ]
  },
  {
   "cell_type": "code",
   "execution_count": 12,
   "metadata": {
    "ExecuteTime": {
     "end_time": "2022-11-05T17:20:08.687738Z",
     "start_time": "2022-11-05T17:16:55.625301Z"
    }
   },
   "outputs": [],
   "source": [
    "for address in df['location_url']:\n",
    "    URL = f'https://maps.googleapis.com/maps/api/geocode/json?address={address}&key=YOUR_API_KEY_HERE'\n",
    "    \n",
    "    try:\n",
    "        req = requests.get(URL)\n",
    "\n",
    "        json = req.json()\n",
    "\n",
    "        address_lat_long.append((address,json[\"results\"][0][\"geometry\"][\"location\"]))\n",
    "    except:\n",
    "        address_lat_long.append((address,'No coordinates found'))"
   ]
  },
  {
   "cell_type": "markdown",
   "metadata": {},
   "source": [
    "Create two columns for the latitude and longitude of each address."
   ]
  },
  {
   "cell_type": "code",
   "execution_count": 13,
   "metadata": {
    "ExecuteTime": {
     "end_time": "2022-11-05T17:20:08.705194Z",
     "start_time": "2022-11-05T17:20:08.692047Z"
    }
   },
   "outputs": [],
   "source": [
    "df['lat_long'] =  [address[1] for address in address_lat_long]"
   ]
  },
  {
   "cell_type": "code",
   "execution_count": 14,
   "metadata": {
    "ExecuteTime": {
     "end_time": "2022-11-05T17:20:08.720868Z",
     "start_time": "2022-11-05T17:20:08.710418Z"
    }
   },
   "outputs": [],
   "source": [
    "df['lat'] = [lat_long['lat'] if lat_long != 'No coordinates found' else lat_long for lat_long in df.lat_long]\n",
    "df['lng'] = [lat_long['lng'] if lat_long != 'No coordinates found' else lat_long for lat_long in df.lat_long]"
   ]
  },
  {
   "cell_type": "code",
   "execution_count": 15,
   "metadata": {
    "ExecuteTime": {
     "end_time": "2022-11-05T17:20:08.749469Z",
     "start_time": "2022-11-05T17:20:08.727450Z"
    }
   },
   "outputs": [],
   "source": [
    "df.drop(columns=['lat_long','location_url'],inplace=True)"
   ]
  },
  {
   "cell_type": "markdown",
   "metadata": {},
   "source": [
    "Obtain the zip code value associated with each address."
   ]
  },
  {
   "cell_type": "code",
   "execution_count": 16,
   "metadata": {
    "ExecuteTime": {
     "end_time": "2022-11-05T17:20:08.761487Z",
     "start_time": "2022-11-05T17:20:08.751512Z"
    }
   },
   "outputs": [],
   "source": [
    "df['zip'] = [loc.replace(' United States','').replace(' USA','').replace(',','').split(' ')[-1] for loc in df['location']]"
   ]
  },
  {
   "cell_type": "markdown",
   "metadata": {
    "ExecuteTime": {
     "end_time": "2022-11-05T17:20:09.403610Z",
     "start_time": "2022-11-05T17:20:09.033400Z"
    }
   },
   "source": [
    "Export the data for futher cleaning and exploratory analysis."
   ]
  },
  {
   "cell_type": "code",
   "execution_count": 22,
   "metadata": {
    "ExecuteTime": {
     "end_time": "2022-11-05T17:20:09.447136Z",
     "start_time": "2022-11-05T17:20:09.405796Z"
    }
   },
   "outputs": [],
   "source": [
    "df.to_csv('../StartingWithToday/data/non-profit-orgs.csv',\n",
    "         index=False)"
   ]
  }
 ],
 "metadata": {
  "kernelspec": {
   "display_name": "Python 3",
   "language": "python",
   "name": "python3"
  },
  "language_info": {
   "codemirror_mode": {
    "name": "ipython",
    "version": 3
   },
   "file_extension": ".py",
   "mimetype": "text/x-python",
   "name": "python",
   "nbconvert_exporter": "python",
   "pygments_lexer": "ipython3",
   "version": "3.7.4"
  }
 },
 "nbformat": 4,
 "nbformat_minor": 2
}
