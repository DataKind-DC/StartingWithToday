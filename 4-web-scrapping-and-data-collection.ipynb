{
 "cells": [
  {
   "cell_type": "markdown",
   "metadata": {},
   "source": [
    "# Web Scraping for Non-profit organization's profile information"
   ]
  },
  {
   "cell_type": "markdown",
   "metadata": {},
   "source": [
    "This script will extract the names and URLs of the following non-profit organizations from [idealist.org](https://www.idealist.org/es) to create a directory and map of organizations providing health and human services in the Washington, DC, metropolitan area."
   ]
  },
  {
   "cell_type": "markdown",
   "metadata": {},
   "source": [
    "### Import the required libraries and set up a webdriver to scrape the data using selenium"
   ]
  },
  {
   "cell_type": "code",
   "execution_count": null,
   "metadata": {
    "ExecuteTime": {
     "end_time": "2022-10-28T01:36:19.118141Z",
     "start_time": "2022-10-28T01:36:17.211938Z"
    }
   },
   "outputs": [],
   "source": [
    "import requests\n",
    "from bs4 import BeautifulSoup\n",
    "from selenium import webdriver\n",
    "from selenium.webdriver.chrome.service import Service\n",
    "\n",
    "from time import sleep\n",
    "\n",
    "import pandas as pd\n",
    "import os\n",
    "import sqlite3"
   ]
  },
  {
   "cell_type": "markdown",
   "metadata": {},
   "source": [
    "Create a container for the organization URL data to extract the data about each organization from their `idealist.org` profiles."
   ]
  },
  {
   "cell_type": "code",
   "execution_count": null,
   "metadata": {
    "ExecuteTime": {
     "end_time": "2022-10-28T01:36:19.129392Z",
     "start_time": "2022-10-28T01:36:19.121765Z"
    }
   },
   "outputs": [],
   "source": [
    "org_url = []"
   ]
  },
  {
   "cell_type": "code",
   "execution_count": null,
   "metadata": {
    "ExecuteTime": {
     "end_time": "2022-10-28T01:40:49.270427Z",
     "start_time": "2022-10-28T01:36:19.132026Z"
    },
    "scrolled": false
   },
   "outputs": [],
   "source": [
    "for i in range(1,51):\n",
    "    ser = Service('chromedriver/chromedriver')\n",
    "    op = webdriver.ChromeOptions()\n",
    "    driver = webdriver.Chrome(service=ser, options=op)\n",
    "    \n",
    "    URL = f'https://www.idealist.org/en/organizations?page={i}&q='    \n",
    "    driver.get(URL)\n",
    "    \n",
    "    html = driver.page_source\n",
    "    soup = BeautifulSoup(html)\n",
    "    \n",
    "    data = soup.findAll('a',{'class':'sc-uln2n7-0 eIARxM'})\n",
    "    \n",
    "    try:\n",
    "        for val in data:            \n",
    "            org_url.append('https://www.idealist.org'+str(val).split(' href=')[1].split(' ')[0].replace('\"',''))\n",
    "    \n",
    "    except:\n",
    "        org_url.append('No value')\n",
    "    \n",
    "    driver.close()"
   ]
  },
  {
   "cell_type": "markdown",
   "metadata": {},
   "source": [
    "Extract information from every organization using their URLs."
   ]
  },
  {
   "cell_type": "code",
   "execution_count": null,
   "metadata": {
    "ExecuteTime": {
     "end_time": "2022-10-28T01:40:49.298330Z",
     "start_time": "2022-10-28T01:40:49.285964Z"
    }
   },
   "outputs": [],
   "source": [
    "org_name = []\n",
    "org_location = []\n",
    "org_website = []\n",
    "org_about = []\n",
    "org_services = []\n",
    "org_type = []"
   ]
  },
  {
   "cell_type": "code",
   "execution_count": null,
   "metadata": {
    "ExecuteTime": {
     "end_time": "2022-10-28T02:50:18.802197Z",
     "start_time": "2022-10-28T01:40:49.302530Z"
    }
   },
   "outputs": [],
   "source": [
    "for url in org_url:    \n",
    "    \n",
    "    ser = Service('chromedriver/chromedriver')\n",
    "    op = webdriver.ChromeOptions()\n",
    "    driver = webdriver.Chrome(service=ser, options=op)\n",
    "        \n",
    "    driver.get(url)\n",
    "    \n",
    "    html = driver.page_source\n",
    "    soup = BeautifulSoup(html)\n",
    "    \n",
    "    try:        \n",
    "        org_name.append((url,str(soup.findAll('h1',{'class':'sc-1q4cy5p-0 dyiqpT'})).split('>')[1].split('<')[0]))\n",
    "    \n",
    "        org_location.append((url,str(soup.findAll('div',{'class':'sc-59ntl3-0 gpJdOX'})).split('>Share')[1].\\\n",
    "                            split('<div class=\"sc-59ntl3-0 gpJdOX\">')[1].split('<br')[0]))\n",
    "        \n",
    "        org_website.append((url,\n",
    "                            str(soup.findAll('a',{'class':'sc-dlo1ho-0 QxmwN'})).split('href=\"http://')[1].split(' ')[0]))\n",
    "        \n",
    "        org_about.append((url,str(soup.findAll('div',{'class':'sc-n1vyd2-1'})).split('<p><strong>')[1]))\n",
    "        \n",
    "        org_services.append((url,str(soup.findAll('li',{'class':'sc-59ntl3-0 gNRvwb'})).split('>')[1].split('<')[0]))\n",
    "        \n",
    "        org_type.append((url,str(soup.findAll('h5',{'class':'sc-1q4cy5p-0 POIXj'})).split('>')[1].split('<')[0]))\n",
    "        \n",
    "    except:\n",
    "        org_name.append((url,'No value'))\n",
    "        org_location.append((url,'No value'))\n",
    "        org_website.append((url,'No value'))\n",
    "        org_about.append((url,'No value'))\n",
    "        org_services.append((url,'No value'))\n",
    "        org_type.append((url,'No value'))\n",
    "    \n",
    "    driver.close()"
   ]
  },
  {
   "cell_type": "markdown",
   "metadata": {},
   "source": [
    "Combine all data frames into one dataframe."
   ]
  },
  {
   "cell_type": "code",
   "execution_count": null,
   "metadata": {
    "ExecuteTime": {
     "end_time": "2022-10-28T02:50:18.865879Z",
     "start_time": "2022-10-28T02:50:18.805486Z"
    }
   },
   "outputs": [],
   "source": [
    "name = pd.DataFrame({'org_url':[i[0] for i in org_name],'name':[i[1] for i in org_name]}).drop_duplicates(subset=['org_url'])\n",
    "location = pd.DataFrame({'org_url':[i[0] for i in org_location],'location':[i[1] for i in org_location]}).drop_duplicates(subset=['org_url'])\n",
    "website = pd.DataFrame({'org_url':[i[0] for i in org_website],'website':[i[1] for i in org_website]}).drop_duplicates(subset=['org_url'])\n",
    "about = pd.DataFrame({'org_url':[i[0] for i in org_about],'about':[i[1] for i in org_about]}).drop_duplicates(subset=['org_url'])\n",
    "services = pd.DataFrame({'org_url':[i[0] for i in org_services],'services':[i[1] for i in org_services]}).drop_duplicates(subset=['org_url'])\n",
    "types = pd.DataFrame({'org_url':[i[0] for i in org_type],'org_type':[i[1] for i in org_type]}).drop_duplicates(subset=['org_url'])"
   ]
  },
  {
   "cell_type": "code",
   "execution_count": null,
   "metadata": {
    "ExecuteTime": {
     "end_time": "2022-10-28T02:50:19.017207Z",
     "start_time": "2022-10-28T02:50:18.869053Z"
    }
   },
   "outputs": [],
   "source": [
    "for feature in [location,website,about,services,types]:\n",
    "    name = name.merge(feature, on = 'org_url', how ='left', indicator = True)\n",
    "    name = name[name['_merge'] == 'both']\n",
    "    name.drop(columns=['_merge'],inplace=True)"
   ]
  },
  {
   "cell_type": "code",
   "execution_count": null,
   "metadata": {
    "ExecuteTime": {
     "end_time": "2022-10-28T02:50:19.024485Z",
     "start_time": "2022-10-28T02:50:19.021639Z"
    }
   },
   "outputs": [],
   "source": [
    "df = name"
   ]
  },
  {
   "cell_type": "markdown",
   "metadata": {},
   "source": [
    "Using the URLs obtained and the organizations' addresses, use the Google Maps API to find the latitude and longitude of each organization's address to plot data on map."
   ]
  },
  {
   "cell_type": "code",
   "execution_count": null,
   "metadata": {
    "ExecuteTime": {
     "end_time": "2022-10-28T02:50:19.034634Z",
     "start_time": "2022-10-28T02:50:19.028543Z"
    }
   },
   "outputs": [],
   "source": [
    "df['location'] = [address.split('<')[0] for address in df['location']]"
   ]
  },
  {
   "cell_type": "code",
   "execution_count": null,
   "metadata": {
    "ExecuteTime": {
     "end_time": "2022-10-28T02:50:19.042632Z",
     "start_time": "2022-10-28T02:50:19.036924Z"
    }
   },
   "outputs": [],
   "source": [
    "df['location_url'] = ['+'.join(address.split(' ')) for address in df['location']]"
   ]
  },
  {
   "cell_type": "code",
   "execution_count": null,
   "metadata": {
    "ExecuteTime": {
     "end_time": "2022-10-28T02:50:19.053171Z",
     "start_time": "2022-10-28T02:50:19.045404Z"
    }
   },
   "outputs": [],
   "source": [
    "address_lat_long = []"
   ]
  },
  {
   "cell_type": "markdown",
   "metadata": {},
   "source": [
    "To access the longitude and latitude coordinates based on the address of each organization, please obtain a [Google Maps API key here](https://developers.google.com/maps) and replace the key parameter better with your API key."
   ]
  },
  {
   "cell_type": "code",
   "execution_count": null,
   "metadata": {
    "ExecuteTime": {
     "end_time": "2022-10-28T02:53:10.532831Z",
     "start_time": "2022-10-28T02:50:19.056180Z"
    }
   },
   "outputs": [],
   "source": [
    "for address in df['location_url']:\n",
    "    URL = f'https://maps.googleapis.com/maps/api/geocode/json?address={address}&key=YOUR_API_KEY_HERE'\n",
    "    \n",
    "    try:\n",
    "        req = requests.get(URL)\n",
    "\n",
    "        json = req.json()\n",
    "\n",
    "        address_lat_long.append((address,json[\"results\"][0][\"geometry\"][\"location\"]))\n",
    "    except:\n",
    "        address_lat_long.append((address,'No coordinates found'))"
   ]
  },
  {
   "cell_type": "markdown",
   "metadata": {},
   "source": [
    "Create two columns for the latitude and longitude of each address."
   ]
  },
  {
   "cell_type": "code",
   "execution_count": null,
   "metadata": {
    "ExecuteTime": {
     "end_time": "2022-10-28T02:53:10.544420Z",
     "start_time": "2022-10-28T02:53:10.535712Z"
    }
   },
   "outputs": [],
   "source": [
    "df['lat_long'] = [address[1] for address in address_lat_long]"
   ]
  },
  {
   "cell_type": "code",
   "execution_count": null,
   "metadata": {
    "ExecuteTime": {
     "end_time": "2022-10-28T02:53:10.555574Z",
     "start_time": "2022-10-28T02:53:10.548818Z"
    }
   },
   "outputs": [],
   "source": [
    "df['lat'] = [lat_long['lat'] if lat_long != 'No coordinates found' else lat_long for lat_long in df.lat_long]\n",
    "df['lng'] = [lat_long['lng'] if lat_long != 'No coordinates found' else lat_long for lat_long in df.lat_long]"
   ]
  },
  {
   "cell_type": "code",
   "execution_count": null,
   "metadata": {
    "ExecuteTime": {
     "end_time": "2022-10-28T02:53:10.565290Z",
     "start_time": "2022-10-28T02:53:10.557513Z"
    }
   },
   "outputs": [],
   "source": [
    "df.drop(columns=['lat_long','location_url'],inplace=True)"
   ]
  },
  {
   "cell_type": "markdown",
   "metadata": {},
   "source": [
    "Obtain the zip code value associated with each address."
   ]
  },
  {
   "cell_type": "code",
   "execution_count": null,
   "metadata": {
    "ExecuteTime": {
     "end_time": "2022-10-28T23:37:32.166083Z",
     "start_time": "2022-10-28T23:37:32.140409Z"
    }
   },
   "outputs": [],
   "source": [
    "df['zip'] = [loc.replace(' United States','').replace(' USA','').replace(',','').split(' ')[-1] for loc in df['location']]"
   ]
  },
  {
   "cell_type": "markdown",
   "metadata": {},
   "source": [
    "Save the data to a CSV file that can be reused in future analyses without re-running this script."
   ]
  },
  {
   "cell_type": "code",
   "execution_count": null,
   "metadata": {
    "ExecuteTime": {
     "end_time": "2022-10-28T23:40:07.307275Z",
     "start_time": "2022-10-28T23:40:07.279149Z"
    }
   },
   "outputs": [],
   "source": [
    "df.to_csv('../non-profit-orgs/non-profit-orgs.csv',\n",
    "         index=False)"
   ]
  }
 ],
 "metadata": {
  "kernelspec": {
   "display_name": "Python 3",
   "language": "python",
   "name": "python3"
  },
  "language_info": {
   "codemirror_mode": {
    "name": "ipython",
    "version": 3
   },
   "file_extension": ".py",
   "mimetype": "text/x-python",
   "name": "python",
   "nbconvert_exporter": "python",
   "pygments_lexer": "ipython3",
   "version": "3.7.4"
  }
 },
 "nbformat": 4,
 "nbformat_minor": 2
}
