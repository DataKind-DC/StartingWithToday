{
 "cells": [
  {
   "cell_type": "code",
   "execution_count": 1,
   "metadata": {
    "ExecuteTime": {
     "end_time": "2023-01-25T04:57:56.803490Z",
     "start_time": "2023-01-25T04:57:53.342299Z"
    }
   },
   "outputs": [],
   "source": [
    "import pandas as pd\n",
    "import numpy as np\n",
    "import matplotlib.pyplot as plt\n",
    "import seaborn as sns\n",
    "from sklearn.preprocessing import StandardScaler\n",
    "import requests\n",
    "import plotly.express as px\n",
    "from urllib.request import urlopen\n",
    "import json\n",
    "import plotly.figure_factory as ff"
   ]
  },
  {
   "cell_type": "code",
   "execution_count": 2,
   "metadata": {
    "ExecuteTime": {
     "end_time": "2023-01-25T04:57:56.824737Z",
     "start_time": "2023-01-25T04:57:56.806145Z"
    }
   },
   "outputs": [],
   "source": [
    "df = pd.read_csv('../StartingWithToday/data/joined_depression_cre_walkability.csv')\n",
    "    \n",
    "df.columns = df.columns.str.lower()\n",
    "    \n",
    "df.rename(columns={'indicator rate value':'depression_rate','locationname':'geoid_tract_20'},inplace=True)"
   ]
  },
  {
   "cell_type": "markdown",
   "metadata": {},
   "source": [
    "Describe the data to identify potentially incorrect values."
   ]
  },
  {
   "cell_type": "code",
   "execution_count": 3,
   "metadata": {
    "ExecuteTime": {
     "end_time": "2023-01-25T04:57:56.908048Z",
     "start_time": "2023-01-25T04:57:56.833476Z"
    }
   },
   "outputs": [
    {
     "data": {
      "text/html": [
       "<div>\n",
       "<style scoped>\n",
       "    .dataframe tbody tr th:only-of-type {\n",
       "        vertical-align: middle;\n",
       "    }\n",
       "\n",
       "    .dataframe tbody tr th {\n",
       "        vertical-align: top;\n",
       "    }\n",
       "\n",
       "    .dataframe thead th {\n",
       "        text-align: right;\n",
       "    }\n",
       "</style>\n",
       "<table border=\"1\" class=\"dataframe\">\n",
       "  <thead>\n",
       "    <tr style=\"text-align: right;\">\n",
       "      <th></th>\n",
       "      <th>count</th>\n",
       "      <th>mean</th>\n",
       "      <th>std</th>\n",
       "      <th>min</th>\n",
       "      <th>25%</th>\n",
       "      <th>50%</th>\n",
       "      <th>75%</th>\n",
       "      <th>max</th>\n",
       "    </tr>\n",
       "  </thead>\n",
       "  <tbody>\n",
       "    <tr>\n",
       "      <th>blw_pov_lvl_pe</th>\n",
       "      <td>396.0</td>\n",
       "      <td>1.242525e+01</td>\n",
       "      <td>1.072242e+01</td>\n",
       "      <td>2.000000e-01</td>\n",
       "      <td>5.100000</td>\n",
       "      <td>9.100000</td>\n",
       "      <td>15.825000</td>\n",
       "      <td>68.600000</td>\n",
       "    </tr>\n",
       "    <tr>\n",
       "      <th>depression_rate</th>\n",
       "      <td>396.0</td>\n",
       "      <td>1.628737e+01</td>\n",
       "      <td>3.868286e+00</td>\n",
       "      <td>1.070000e+01</td>\n",
       "      <td>13.000000</td>\n",
       "      <td>14.500000</td>\n",
       "      <td>19.725000</td>\n",
       "      <td>30.000000</td>\n",
       "    </tr>\n",
       "    <tr>\n",
       "      <th>no_health_ins_pe</th>\n",
       "      <td>396.0</td>\n",
       "      <td>7.207071e+00</td>\n",
       "      <td>7.166621e+00</td>\n",
       "      <td>0.000000e+00</td>\n",
       "      <td>2.775000</td>\n",
       "      <td>5.000000</td>\n",
       "      <td>9.200000</td>\n",
       "      <td>56.100000</td>\n",
       "    </tr>\n",
       "    <tr>\n",
       "      <th>gini_ind_inequality_e</th>\n",
       "      <td>396.0</td>\n",
       "      <td>-1.683501e+06</td>\n",
       "      <td>3.350126e+07</td>\n",
       "      <td>-6.666667e+08</td>\n",
       "      <td>0.356125</td>\n",
       "      <td>0.404700</td>\n",
       "      <td>0.471150</td>\n",
       "      <td>0.673000</td>\n",
       "    </tr>\n",
       "    <tr>\n",
       "      <th>no_veh_pe</th>\n",
       "      <td>396.0</td>\n",
       "      <td>-1.683481e+06</td>\n",
       "      <td>3.350126e+07</td>\n",
       "      <td>-6.666667e+08</td>\n",
       "      <td>5.100000</td>\n",
       "      <td>15.700000</td>\n",
       "      <td>33.250000</td>\n",
       "      <td>83.000000</td>\n",
       "    </tr>\n",
       "    <tr>\n",
       "      <th>hs_grad_pe</th>\n",
       "      <td>396.0</td>\n",
       "      <td>8.822197e+01</td>\n",
       "      <td>1.011174e+01</td>\n",
       "      <td>1.830000e+01</td>\n",
       "      <td>84.175000</td>\n",
       "      <td>90.600000</td>\n",
       "      <td>95.000000</td>\n",
       "      <td>100.000000</td>\n",
       "    </tr>\n",
       "    <tr>\n",
       "      <th>broadband_pe</th>\n",
       "      <td>396.0</td>\n",
       "      <td>-1.683418e+06</td>\n",
       "      <td>3.350126e+07</td>\n",
       "      <td>-6.666667e+08</td>\n",
       "      <td>78.100000</td>\n",
       "      <td>86.900000</td>\n",
       "      <td>92.200000</td>\n",
       "      <td>100.000000</td>\n",
       "    </tr>\n",
       "    <tr>\n",
       "      <th>median_natwalkind</th>\n",
       "      <td>396.0</td>\n",
       "      <td>1.261553e+01</td>\n",
       "      <td>3.245840e+00</td>\n",
       "      <td>3.166667e+00</td>\n",
       "      <td>11.062500</td>\n",
       "      <td>13.208333</td>\n",
       "      <td>14.833333</td>\n",
       "      <td>18.833333</td>\n",
       "    </tr>\n",
       "  </tbody>\n",
       "</table>\n",
       "</div>"
      ],
      "text/plain": [
       "                       count          mean           std           min  \\\n",
       "blw_pov_lvl_pe         396.0  1.242525e+01  1.072242e+01  2.000000e-01   \n",
       "depression_rate        396.0  1.628737e+01  3.868286e+00  1.070000e+01   \n",
       "no_health_ins_pe       396.0  7.207071e+00  7.166621e+00  0.000000e+00   \n",
       "gini_ind_inequality_e  396.0 -1.683501e+06  3.350126e+07 -6.666667e+08   \n",
       "no_veh_pe              396.0 -1.683481e+06  3.350126e+07 -6.666667e+08   \n",
       "hs_grad_pe             396.0  8.822197e+01  1.011174e+01  1.830000e+01   \n",
       "broadband_pe           396.0 -1.683418e+06  3.350126e+07 -6.666667e+08   \n",
       "median_natwalkind      396.0  1.261553e+01  3.245840e+00  3.166667e+00   \n",
       "\n",
       "                             25%        50%        75%         max  \n",
       "blw_pov_lvl_pe          5.100000   9.100000  15.825000   68.600000  \n",
       "depression_rate        13.000000  14.500000  19.725000   30.000000  \n",
       "no_health_ins_pe        2.775000   5.000000   9.200000   56.100000  \n",
       "gini_ind_inequality_e   0.356125   0.404700   0.471150    0.673000  \n",
       "no_veh_pe               5.100000  15.700000  33.250000   83.000000  \n",
       "hs_grad_pe             84.175000  90.600000  95.000000  100.000000  \n",
       "broadband_pe           78.100000  86.900000  92.200000  100.000000  \n",
       "median_natwalkind      11.062500  13.208333  14.833333   18.833333  "
      ]
     },
     "execution_count": 3,
     "metadata": {},
     "output_type": "execute_result"
    }
   ],
   "source": [
    "df[['blw_pov_lvl_pe','depression_rate','no_health_ins_pe','gini_ind_inequality_e',\n",
    "    'no_veh_pe','hs_grad_pe','broadband_pe','median_natwalkind']].describe().T"
   ]
  },
  {
   "cell_type": "markdown",
   "metadata": {},
   "source": [
    "Replace any values less than 0 as `NaN`. These features are not expected to have negative values."
   ]
  },
  {
   "cell_type": "code",
   "execution_count": 4,
   "metadata": {
    "ExecuteTime": {
     "end_time": "2023-01-25T04:57:56.929037Z",
     "start_time": "2023-01-25T04:57:56.913505Z"
    }
   },
   "outputs": [],
   "source": [
    "df.loc[df['broadband_pe'] <0, 'broadband_pe'] = np.nan,\n",
    "df.loc[df['gini_ind_inequality_e'] <0, 'gini_ind_inequality_e'] = np.nan,\n",
    "df.loc[df['no_veh_pe'] <0, 'no_veh_pe'] = np.nan"
   ]
  },
  {
   "cell_type": "markdown",
   "metadata": {},
   "source": [
    "Generate new variables for display in the maps."
   ]
  },
  {
   "cell_type": "code",
   "execution_count": 5,
   "metadata": {
    "ExecuteTime": {
     "end_time": "2023-01-25T04:57:56.950930Z",
     "start_time": "2023-01-25T04:57:56.937487Z"
    }
   },
   "outputs": [],
   "source": [
    "df['GEOID'] = df['geoid_tract_20']\n",
    "df['Percentage of population below poverty line'] = df['blw_pov_lvl_pe']\n",
    "df['Depression rate'] = df['depression_rate']\n",
    "df['Percentage of households without health insurance'] = df['no_health_ins_pe']\n",
    "df['Gini inequality index'] = df['gini_ind_inequality_e']\n",
    "df['Percentage of households without vehicles'] = df['no_veh_pe']\n",
    "df['Percentage of Black residents'] = df['nh_black_alone_pe']\n",
    "df['Percentage of residents with internet access'] = df['broadband_pe']\n",
    "df['Percentage of residents with a high school diploma'] = df['hs_grad_pe']\n",
    "df['Walkability score'] = df['median_natwalkind']\n",
    "\n",
    "df['GEOID'] = df['GEOID'].astype(str)"
   ]
  },
  {
   "cell_type": "markdown",
   "metadata": {},
   "source": [
    "Join the data with zip codes."
   ]
  },
  {
   "cell_type": "code",
   "execution_count": 6,
   "metadata": {
    "ExecuteTime": {
     "end_time": "2023-01-25T04:58:15.254250Z",
     "start_time": "2023-01-25T04:57:56.954084Z"
    }
   },
   "outputs": [],
   "source": [
    "zcta = pd.read_csv('https://www2.census.gov/geo/docs/maps-data/data/rel2020/zcta520/tab20_zcta520_tract20_natl.txt',\n",
    "                   sep='|')\n",
    "\n",
    "zcta.columns = zcta.columns.str.lower()\n",
    "zcta['geoid_tract_20'] = zcta['geoid_tract_20'].astype(str)\n",
    "zcta = zcta.dropna(subset=['geoid_zcta5_20'])\n",
    "    \n",
    "zcta = zcta[['geoid_tract_20','namelsad_zcta5_20']]\n",
    "zcta.rename(columns={'geoid_tract_20':'GEOID','namelsad_zcta5_20':'Zip Code'},inplace=True)\n",
    "    \n",
    "zcta['Zip Code'] = [zip_code.split(' ')[1] for zip_code in zcta['Zip Code']]"
   ]
  },
  {
   "cell_type": "code",
   "execution_count": 7,
   "metadata": {
    "ExecuteTime": {
     "end_time": "2023-01-25T04:58:15.314876Z",
     "start_time": "2023-01-25T04:58:15.256612Z"
    }
   },
   "outputs": [],
   "source": [
    "df = df.merge(zcta, how = 'left', on = 'GEOID', indicator=True)\n",
    "    \n",
    "df.drop(columns='_merge',inplace=True)"
   ]
  },
  {
   "cell_type": "markdown",
   "metadata": {},
   "source": [
    "Add data on the Wards associated with each zip code."
   ]
  },
  {
   "cell_type": "code",
   "execution_count": 8,
   "metadata": {
    "ExecuteTime": {
     "end_time": "2023-01-25T04:58:15.349284Z",
     "start_time": "2023-01-25T04:58:15.318858Z"
    }
   },
   "outputs": [],
   "source": [
    "zips = pd.read_csv('../StartingWithToday/data/zips.csv')\n",
    "    \n",
    "df = df.merge(zips[['Zip Code','Ward']], how='left', on = 'Zip Code', indicator=True)"
   ]
  },
  {
   "cell_type": "markdown",
   "metadata": {},
   "source": [
    "Format features in the data frame for display."
   ]
  },
  {
   "cell_type": "code",
   "execution_count": 9,
   "metadata": {
    "ExecuteTime": {
     "end_time": "2023-01-25T04:58:15.401837Z",
     "start_time": "2023-01-25T04:58:15.351896Z"
    }
   },
   "outputs": [],
   "source": [
    "for var in [['Percentage of population below poverty line', 'Depression rate',\n",
    "             'Percentage of households without health insurance',\n",
    "             'Gini inequality index', 'Percentage of households without vehicles',\n",
    "             'Percentage of Black residents','Percentage of residents with internet access',\n",
    "             'Percentage of residents with a high school diploma','Walkability score','Zip Code','Ward']]:\n",
    "    if var != 'Zip Code' and var != 'Ward':\n",
    "        df[var] = round(df[var],2)\n",
    "    if var != 'Zip Code' and var != 'Ward' and var != 'Needs Score':\n",
    "        df[var] = df[var].astype(str)\n",
    "        \n",
    "for var in ['Gini inequality index', 'Percentage of households without vehicles',\n",
    "            'Percentage of residents with internet access']:\n",
    "    df.loc[df[var] == 'nan', var] = 'Data Not Available'"
   ]
  },
  {
   "cell_type": "code",
   "execution_count": 10,
   "metadata": {
    "ExecuteTime": {
     "end_time": "2023-01-25T04:58:15.411178Z",
     "start_time": "2023-01-25T04:58:15.403925Z"
    }
   },
   "outputs": [],
   "source": [
    "df.rename(columns={'Ward':'Ward/County'},inplace=True)\n",
    "    \n",
    "df.loc[df['countyname'] == \"Prince George's\", 'Ward/County'] = \"Prince George's\"\n",
    "    \n",
    "df.loc[df['Ward/County'] == \"nan\", 'Ward/County'] = \"Data Not Available\""
   ]
  },
  {
   "cell_type": "markdown",
   "metadata": {},
   "source": [
    "Export data for display in map."
   ]
  },
  {
   "cell_type": "code",
   "execution_count": 11,
   "metadata": {
    "ExecuteTime": {
     "end_time": "2023-01-25T04:58:15.438076Z",
     "start_time": "2023-01-25T04:58:15.415347Z"
    }
   },
   "outputs": [],
   "source": [
    "df[['GEOID','Percentage of population below poverty line', 'Depression rate',\n",
    "    'Percentage of households without health insurance','Gini inequality index',\n",
    "    'Percentage of households without vehicles','Percentage of Black residents',\n",
    "    'Percentage of residents with internet access','Percentage of residents with a high school diploma',\n",
    "    'Walkability score', 'Zip Code', 'Ward/County','countyname']].drop_duplicates().to_csv('./data/display-data.csv',\n",
    "                                                                                           index=False)"
   ]
  },
  {
   "cell_type": "code",
   "execution_count": 12,
   "metadata": {
    "ExecuteTime": {
     "end_time": "2023-01-25T04:58:15.485918Z",
     "start_time": "2023-01-25T04:58:15.440313Z"
    }
   },
   "outputs": [],
   "source": [
    "df = df.drop_duplicates()"
   ]
  },
  {
   "cell_type": "markdown",
   "metadata": {},
   "source": [
    "Create a function to generate z-scores of the features needed in the needs score."
   ]
  },
  {
   "cell_type": "code",
   "execution_count": 13,
   "metadata": {
    "ExecuteTime": {
     "end_time": "2023-01-25T04:58:15.495731Z",
     "start_time": "2023-01-25T04:58:15.488471Z"
    }
   },
   "outputs": [],
   "source": [
    "def update_df(county, df = df):\n",
    "    df_cnty = df[df['countyname'] == county]\n",
    "    df_cnty['hs_grad_pe_gap'] = df_cnty['hs_grad_pe'].max() - df_cnty['hs_grad_pe']\n",
    "    df_cnty['broadband_pe_gap'] = df_cnty['broadband_pe'].max() - df_cnty['broadband_pe']\n",
    "    df_cnty['median_natwalkind_gap'] = df_cnty['median_natwalkind'].max() - df_cnty['median_natwalkind']\n",
    "    \n",
    "    features = ['blw_pov_lvl_pe','depression_rate','no_health_ins_pe','gini_ind_inequality_e',\n",
    "                'no_veh_pe','hs_grad_pe_gap','broadband_pe_gap','median_natwalkind_gap']\n",
    "    \n",
    "    df_cnty[['z_blw_pov_lvl_pe','z_depression_rate',\n",
    "             'z_no_health_ins_pe','z_gini_ind_inequality_e',\n",
    "             'z_no_veh_pe','z_hs_grad_pe_gap',\n",
    "             'z_broadband_pe_gap','z_median_natwalkind_gap']] = StandardScaler().fit_transform(df_cnty[features])\n",
    "    \n",
    "    return df_cnty"
   ]
  },
  {
   "cell_type": "markdown",
   "metadata": {},
   "source": [
    "Export the data to a CSV to be ingested by a Python script."
   ]
  },
  {
   "cell_type": "code",
   "execution_count": 14,
   "metadata": {
    "ExecuteTime": {
     "end_time": "2023-01-25T04:58:15.571826Z",
     "start_time": "2023-01-25T04:58:15.499948Z"
    }
   },
   "outputs": [],
   "source": [
    "update_df('District of Columbia').to_csv('../StartingWithToday/data/needs_score_dc.csv',index=False)\n",
    "\n",
    "update_df(\"Prince George's\").to_csv('../StartingWithToday/data/needs_score_md.csv',index=False)"
   ]
  }
 ],
 "metadata": {
  "kernelspec": {
   "display_name": "Python 3",
   "language": "python",
   "name": "python3"
  },
  "language_info": {
   "codemirror_mode": {
    "name": "ipython",
    "version": 3
   },
   "file_extension": ".py",
   "mimetype": "text/x-python",
   "name": "python",
   "nbconvert_exporter": "python",
   "pygments_lexer": "ipython3",
   "version": "3.7.4"
  }
 },
 "nbformat": 4,
 "nbformat_minor": 2
}
