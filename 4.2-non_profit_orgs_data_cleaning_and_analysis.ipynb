{
 "cells": [
  {
   "cell_type": "markdown",
   "metadata": {},
   "source": [
    "## Data Cleaning and Exploratory Data Analysis"
   ]
  },
  {
   "cell_type": "code",
   "execution_count": 1,
   "metadata": {
    "ExecuteTime": {
     "end_time": "2022-11-29T03:59:45.082255Z",
     "start_time": "2022-11-29T03:59:42.946654Z"
    }
   },
   "outputs": [],
   "source": [
    "import pandas as pd\n",
    "import numpy as np\n",
    "import seaborn as sns\n",
    "import matplotlib.pyplot as plt"
   ]
  },
  {
   "cell_type": "markdown",
   "metadata": {},
   "source": [
    "Clean the data that was webscrapped."
   ]
  },
  {
   "cell_type": "code",
   "execution_count": 2,
   "metadata": {
    "ExecuteTime": {
     "end_time": "2022-11-29T03:59:45.112403Z",
     "start_time": "2022-11-29T03:59:45.084872Z"
    }
   },
   "outputs": [],
   "source": [
    "df = pd.read_csv('../StartingWithToday/data/non-profit-orgs.csv')"
   ]
  },
  {
   "cell_type": "code",
   "execution_count": null,
   "metadata": {
    "ExecuteTime": {
     "end_time": "2022-11-29T03:59:33.677580Z",
     "start_time": "2022-11-29T03:59:33.650712Z"
    }
   },
   "outputs": [],
   "source": [
    "df['name'] = [str(name).split('>')[1].split('<')[0] for name in df['name']]"
   ]
  },
  {
   "cell_type": "code",
   "execution_count": null,
   "metadata": {
    "ExecuteTime": {
     "end_time": "2022-11-11T18:08:19.085054Z",
     "start_time": "2022-11-11T18:08:19.079776Z"
    }
   },
   "outputs": [],
   "source": [
    "df['org_type'] = [str(org).split('\">')[1].split('<')[0] for org in df['org_type']]"
   ]
  },
  {
   "cell_type": "code",
   "execution_count": null,
   "metadata": {
    "ExecuteTime": {
     "end_time": "2022-11-11T18:08:19.096268Z",
     "start_time": "2022-11-11T18:08:19.090192Z"
    }
   },
   "outputs": [],
   "source": [
    "df['services'] = [str(svcs).replace('<li class=\"sc-59ntl3-0 gNRvwb\">','').replace('</li>','').\\\n",
    "                   replace('&amp;','and').replace(',',' & ').replace('[','').replace(']','').replace('<em>','').\\\n",
    "                   replace('</em>','') for svcs in df['services']]"
   ]
  },
  {
   "cell_type": "code",
   "execution_count": null,
   "metadata": {
    "ExecuteTime": {
     "end_time": "2022-11-11T18:08:19.104212Z",
     "start_time": "2022-11-11T18:08:19.098910Z"
    }
   },
   "outputs": [],
   "source": [
    "df['website'] = [str(web[6]).split('>')[1].split('<')[0] for web in df['website'].values]"
   ]
  },
  {
   "cell_type": "code",
   "execution_count": null,
   "metadata": {
    "ExecuteTime": {
     "end_time": "2022-11-11T18:08:19.110798Z",
     "start_time": "2022-11-11T18:08:19.107102Z"
    }
   },
   "outputs": [],
   "source": [
    "df['about'] = [''.join(str(about[0]).split('<p>')).split('>')[4].split('<')[0] for about in df['about'].values]"
   ]
  },
  {
   "cell_type": "markdown",
   "metadata": {},
   "source": [
    "Replace `No value` with empty string."
   ]
  },
  {
   "cell_type": "code",
   "execution_count": 3,
   "metadata": {
    "ExecuteTime": {
     "end_time": "2022-11-29T03:59:50.139957Z",
     "start_time": "2022-11-29T03:59:50.123880Z"
    }
   },
   "outputs": [],
   "source": [
    "for col in df.columns:\n",
    "    df[col] = [np.nan if val == 'No value' or val == 'No coordinates found' else val for val in df[col]]"
   ]
  },
  {
   "cell_type": "markdown",
   "metadata": {},
   "source": [
    "Search for the number of missing values."
   ]
  },
  {
   "cell_type": "code",
   "execution_count": 4,
   "metadata": {
    "ExecuteTime": {
     "end_time": "2022-11-29T03:59:52.962494Z",
     "start_time": "2022-11-29T03:59:52.942911Z"
    }
   },
   "outputs": [
    {
     "data": {
      "text/plain": [
       "org_url       0\n",
       "name          0\n",
       "location      2\n",
       "website       0\n",
       "about       290\n",
       "services     62\n",
       "org_type      0\n",
       "lat          14\n",
       "lng          14\n",
       "zip           2\n",
       "dtype: int64"
      ]
     },
     "execution_count": 4,
     "metadata": {},
     "output_type": "execute_result"
    }
   ],
   "source": [
    "df.isnull().sum()"
   ]
  },
  {
   "cell_type": "markdown",
   "metadata": {},
   "source": [
    "Keep organizations whose `service area` is known."
   ]
  },
  {
   "cell_type": "code",
   "execution_count": 5,
   "metadata": {
    "ExecuteTime": {
     "end_time": "2022-11-29T03:59:54.126465Z",
     "start_time": "2022-11-29T03:59:54.115373Z"
    }
   },
   "outputs": [],
   "source": [
    "df = df[~df['services'].isnull()]"
   ]
  },
  {
   "cell_type": "code",
   "execution_count": 6,
   "metadata": {
    "ExecuteTime": {
     "end_time": "2022-11-29T03:59:55.418608Z",
     "start_time": "2022-11-29T03:59:55.411430Z"
    }
   },
   "outputs": [
    {
     "data": {
      "text/plain": [
       "(938, 10)"
      ]
     },
     "execution_count": 6,
     "metadata": {},
     "output_type": "execute_result"
    }
   ],
   "source": [
    "df.shape"
   ]
  },
  {
   "cell_type": "markdown",
   "metadata": {},
   "source": [
    "Check for data types."
   ]
  },
  {
   "cell_type": "code",
   "execution_count": 7,
   "metadata": {
    "ExecuteTime": {
     "end_time": "2022-11-29T03:59:56.488477Z",
     "start_time": "2022-11-29T03:59:56.472284Z"
    }
   },
   "outputs": [
    {
     "data": {
      "text/plain": [
       "org_url     object\n",
       "name        object\n",
       "location    object\n",
       "website     object\n",
       "about       object\n",
       "services    object\n",
       "org_type    object\n",
       "lat         object\n",
       "lng         object\n",
       "zip         object\n",
       "dtype: object"
      ]
     },
     "execution_count": 7,
     "metadata": {},
     "output_type": "execute_result"
    }
   ],
   "source": [
    "df.dtypes"
   ]
  },
  {
   "cell_type": "markdown",
   "metadata": {},
   "source": [
    "Convert the latitude and longitude object type columns to float type columns."
   ]
  },
  {
   "cell_type": "code",
   "execution_count": 8,
   "metadata": {
    "ExecuteTime": {
     "end_time": "2022-11-29T03:59:57.557665Z",
     "start_time": "2022-11-29T03:59:57.546120Z"
    }
   },
   "outputs": [],
   "source": [
    "df['lat'] = df['lat'].astype(float)\n",
    "df['lng'] = df['lng'].astype(float)"
   ]
  },
  {
   "cell_type": "markdown",
   "metadata": {},
   "source": [
    "Keep only on-profit organizations in the data set."
   ]
  },
  {
   "cell_type": "code",
   "execution_count": 9,
   "metadata": {
    "ExecuteTime": {
     "end_time": "2022-11-29T03:59:59.195498Z",
     "start_time": "2022-11-29T03:59:59.180871Z"
    }
   },
   "outputs": [
    {
     "data": {
      "text/plain": [
       "Nonprofit     866\n",
       "Consultant     40\n",
       "Government     17\n",
       "Recruiter      15\n",
       "Name: org_type, dtype: int64"
      ]
     },
     "execution_count": 9,
     "metadata": {},
     "output_type": "execute_result"
    }
   ],
   "source": [
    "df['org_type'].value_counts()"
   ]
  },
  {
   "cell_type": "code",
   "execution_count": 10,
   "metadata": {
    "ExecuteTime": {
     "end_time": "2022-11-29T03:59:59.688756Z",
     "start_time": "2022-11-29T03:59:59.676060Z"
    }
   },
   "outputs": [],
   "source": [
    "df = df[df['org_type'] == 'Nonprofit']"
   ]
  },
  {
   "cell_type": "markdown",
   "metadata": {},
   "source": [
    "Create a count of the number of organizations by service area. First, temporarily assign each organization to only one service area.\n"
   ]
  },
  {
   "cell_type": "code",
   "execution_count": 11,
   "metadata": {
    "ExecuteTime": {
     "end_time": "2022-11-29T04:00:02.732295Z",
     "start_time": "2022-11-29T04:00:02.723699Z"
    }
   },
   "outputs": [
    {
     "data": {
      "text/plain": [
       "['Agriculture',\n",
       " 'Animals',\n",
       " 'Arts and Music',\n",
       " 'Children and Youth',\n",
       " 'Civic Engagement']"
      ]
     },
     "execution_count": 11,
     "metadata": {},
     "output_type": "execute_result"
    }
   ],
   "source": [
    "services = [svcs.split(' & ') for svcs in list(df['services'].value_counts().index)]\n",
    "\n",
    "unique_services = []\n",
    "\n",
    "for service in services:\n",
    "    for svcs in service:\n",
    "        unique_services.append(svcs.strip())\n",
    "\n",
    "unique_services = sorted(list(set(unique_services)))\n",
    "unique_services[:5]"
   ]
  },
  {
   "cell_type": "markdown",
   "metadata": {},
   "source": [
    "Create an indicator for whether the organization offers at one of the types of services available."
   ]
  },
  {
   "cell_type": "code",
   "execution_count": 12,
   "metadata": {
    "ExecuteTime": {
     "end_time": "2022-11-29T04:00:05.401699Z",
     "start_time": "2022-11-29T04:00:05.313385Z"
    }
   },
   "outputs": [],
   "source": [
    "for service in unique_services:\n",
    "    df[service] = 0\n",
    "    df.loc[df['services'].str.contains(service),service] = 1"
   ]
  },
  {
   "cell_type": "markdown",
   "metadata": {},
   "source": [
    "Clean the service types column."
   ]
  },
  {
   "cell_type": "code",
   "execution_count": 23,
   "metadata": {
    "ExecuteTime": {
     "end_time": "2022-11-29T04:02:36.055379Z",
     "start_time": "2022-11-29T04:02:36.049389Z"
    }
   },
   "outputs": [],
   "source": [
    "df['services'] = [' & '.join(sorted(svcs.replace('  ',' ').split(' & '))) for svcs in df['services']]"
   ]
  },
  {
   "cell_type": "markdown",
   "metadata": {},
   "source": [
    "Export final version of data set for map-plotting."
   ]
  },
  {
   "cell_type": "code",
   "execution_count": 24,
   "metadata": {
    "ExecuteTime": {
     "end_time": "2022-11-29T04:02:43.080248Z",
     "start_time": "2022-11-29T04:02:43.038166Z"
    }
   },
   "outputs": [],
   "source": [
    "df.to_csv('../StartingWithToday/data/non-profit-orgs-cleaned.csv',index=False)"
   ]
  }
 ],
 "metadata": {
  "kernelspec": {
   "display_name": "Python 3",
   "language": "python",
   "name": "python3"
  },
  "language_info": {
   "codemirror_mode": {
    "name": "ipython",
    "version": 3
   },
   "file_extension": ".py",
   "mimetype": "text/x-python",
   "name": "python",
   "nbconvert_exporter": "python",
   "pygments_lexer": "ipython3",
   "version": "3.7.4"
  }
 },
 "nbformat": 4,
 "nbformat_minor": 2
}
