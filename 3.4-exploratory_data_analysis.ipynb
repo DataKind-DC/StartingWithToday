{
 "cells": [
  {
   "cell_type": "code",
   "execution_count": 2,
   "id": "6fbbe99c",
   "metadata": {},
   "outputs": [],
   "source": [
    "# standard data libraries\n",
    "import pandas as pd\n",
    "import seaborn as sns \n",
    "import matplotlib.pyplot as plt\n",
    "from sklearn import tree\n",
    "import re\n",
    "\n",
    "# math stuff\n",
    "import numpy as np\n",
    "import random\n",
    "\n",
    "\n",
    "# plotting stuff\n",
    "import matplotlib.cm as cm\n",
    "\n",
    "\n",
    "# system stuff\n",
    "from IPython.display import Image\n",
    "import os\n",
    "\n",
    "# census stuff\n",
    "import pandas as pd\n",
    "import censusdata\n",
    "from tabulate import tabulate\n",
    "# import cenpy\n",
    "\n",
    "# plotting library\n",
    "import plotly.figure_factory as ff\n",
    "\n",
    "\n",
    "# set global variables and settings\n",
    "sns.set_theme(style = 'darkgrid',\n",
    "              palette='tab10',\n",
    "             font_scale=1.5)\n",
    "pd.options.display.max_colwidth = 200\n",
    "\n",
    "\n",
    "# census libraries\n",
    "import plotly.figure_factory as ff\n",
    "import numpy as np \n",
    "import matplotlib.pyplot as plt \n",
    "import pandas as pd \n",
    "import contextily as ctx \n",
    "import geopandas as gpd \n",
    "import os \n",
    "from mpl_toolkits.axes_grid1 import make_axes_locatable\n",
    "\n",
    "\n",
    "# set directories\n",
    "data_dir = os.path.join(os.getcwd(), \"..\", \"raw_data\")"
   ]
  },
  {
   "cell_type": "code",
   "execution_count": 3,
   "id": "6a61da60",
   "metadata": {},
   "outputs": [],
   "source": [
    "df = pd.read_csv(os.path.join(data_dir, \"joined_depression_cre.csv\"))\n",
    "\n",
    "# dc_geo = censusdata.download('acs5', \n",
    "#                                2019,\n",
    "#                                censusdata.censusgeo([('state', '11'), ('county', '*')]),\n",
    "#                                ['B08301_001E'])\n",
    "# dc_median_age = \n",
    "# cenpy.products.ACS(2018).from_place('Chicago, IL', level='tract', variables=['B01002_001E'])"
   ]
  },
  {
   "cell_type": "code",
   "execution_count": 4,
   "id": "e823af66",
   "metadata": {},
   "outputs": [
    {
     "name": "stdout",
     "output_type": "stream",
     "text": [
      "Indicator Name \t object\n",
      "What Is This Indicator \t object\n",
      "Location Type \t object\n",
      "Location \t int64\n",
      "Indicator Rate Value \t float64\n",
      "Indicator Rate Value Units \t object\n",
      "Rate Lower Confidence Interval \t float64\n",
      "Rate Upper Confidence Interval \t float64\n",
      "Indicator Count Value \t float64\n",
      "Indicator Count Value Units \t float64\n",
      "Count Lower Confidence Interval \t float64\n",
      "Count Upper Confidence Interval \t float64\n",
      "Indicator Value Unstable \t object\n",
      "Period of Measure \t float64\n",
      "Data Source \t object\n",
      "Technical Note \t float64\n",
      "Breakout Title \t float64\n",
      "Breakout Category \t float64\n",
      "Breakout Subcategory \t float64\n",
      "Breakout Rate Value \t float64\n",
      "Breakout Rate Value Units \t float64\n",
      "Breakout Rate Lower Confidence Interval \t float64\n",
      "Breakout Rate Upper Confidence Interval \t float64\n",
      "Breakout Count Value \t float64\n",
      "Breakout Count Value Units \t float64\n",
      "Breakout Count Lower Confidence Interval \t float64\n",
      "Breakout Count Upper Confidence Interval \t float64\n",
      "Breakout Unstable \t float64\n",
      "Breakout Footer \t float64\n",
      "GEO_ID \t object\n",
      "NAME \t object\n",
      "POPUNI \t int64\n",
      "PRED0_E \t int64\n",
      "PRED0_M \t int64\n",
      "PRED0_PE \t float64\n",
      "PRED0_PM \t float64\n",
      "PRED0_PF \t int64\n",
      "PRED12_E \t int64\n",
      "PRED12_M \t int64\n",
      "PRED12_PE \t float64\n",
      "PRED12_PM \t float64\n",
      "PRED12_PF \t int64\n",
      "PRED3_E \t int64\n",
      "PRED3_M \t int64\n",
      "PRED3_PE \t float64\n",
      "PRED3_PM \t float64\n",
      "PRED3_PF \t int64\n",
      "Total_Population_E \t int64\n",
      "Total_Population_M \t int64\n",
      "Housing_Units_E \t int64\n",
      "Housing_Units_M \t int64\n",
      "Hispanic_PE \t float64\n",
      "Hispanic_PM \t float64\n",
      "Hispanic_PF \t int64\n",
      "NH_White_alone_PE \t float64\n",
      "NH_White_alone_PM \t float64\n",
      "NH_White_alone_PF \t int64\n",
      "NH_Black_alone_PE \t float64\n",
      "NH_Black_alone_PM \t float64\n",
      "NH_Black_alone_PF \t int64\n",
      "NH_AIAN_alone_PE \t float64\n",
      "NH_AIAN_alone_PM \t float64\n",
      "NH_AIAN_alone_PF \t int64\n",
      "NH_Asian_alone_PE \t float64\n",
      "NH_Asian_alone_PM \t float64\n",
      "NH_Asian_alone_PF \t int64\n",
      "NH_NHPI_alone_PE \t float64\n",
      "NH_NHPI_alone_PM \t float64\n",
      "NH_NHPI_alone_PF \t int64\n",
      "NH_SOR_alone_PE \t float64\n",
      "NH_SOR_alone_PM \t float64\n",
      "NH_SOR_alone_PF \t int64\n",
      "NH_Two_or_More_PE \t float64\n",
      "NH_Two_or_More_PM \t float64\n",
      "NH_Two_or_More_PF \t int64\n",
      "Male_PE \t float64\n",
      "Male_PM \t float64\n",
      "Male_PF \t int64\n",
      "Female_PE \t float64\n",
      "Female_PM \t float64\n",
      "Female_PF \t int64\n",
      "civ_vet_PE \t float64\n",
      "civ_vet_PM \t float64\n",
      "civ_vet_PF \t int64\n",
      "GINI_IND_Inequality_E \t float64\n",
      "GINI_IND_Inequality_M \t float64\n",
      "GINI_IND_Inequality_F \t int64\n",
      "Rural_Pop_PE \t float64\n",
      "Rural_Pop_PF \t int64\n",
      "Median_age_E \t float64\n",
      "Median_age_M \t float64\n",
      "Median_age_F \t int64\n",
      "65_plus_PE \t float64\n",
      "65_plus_PM \t float64\n",
      "65_plus_PF \t int64\n",
      "Disabled_PE \t float64\n",
      "Disabled_PM \t float64\n",
      "Disabled_PF \t int64\n",
      "Blw_Pov_Lvl_PE \t float64\n",
      "Blw_Pov_Lvl_PM \t float64\n",
      "Blw_Pov_Lvl_PF \t int64\n",
      "Female_no_partner_w_child_PE \t float64\n",
      "Female_no_partner_w_child_PM \t float64\n",
      "Female_no_partner_w_child_PF \t int64\n",
      "Male_no_partner_w_child_PE \t float64\n",
      "Male_no_partner_w_child_PM \t float64\n",
      "Male_no_partner_w_child_PF \t int64\n",
      "crowd_occ_PE \t float64\n",
      "crowd_occ_PM \t float64\n",
      "crowd_occ_PF \t int64\n",
      "HS_Grad_PE \t float64\n",
      "HS_Grad_PM \t float64\n",
      "HS_Grad_PF \t int64\n",
      "ENG_LVW_PE \t float64\n",
      "ENG_LVW_PM \t float64\n",
      "ENG_LVW_PF \t int64\n",
      "WRK_FT_YR_PE \t float64\n",
      "WRK_FT_YR_PM \t float64\n",
      "WRK_FT_YR_PF \t int64\n",
      "No_Health_Ins_PE \t float64\n",
      "No_Health_Ins_PM \t float64\n",
      "No_Health_Ins_PF \t int64\n",
      "Broadband_PE \t float64\n",
      "Broadband_PM \t float64\n",
      "Broadband_PF \t int64\n",
      "No_Veh_PE \t float64\n",
      "No_Veh_PM \t float64\n",
      "No_Veh_PF \t int64\n",
      "HO_Vac_PE \t float64\n",
      "HO_Vac_PM \t float64\n",
      "HO_Vac_PF \t int64\n",
      "Rent_Vac_PE \t float64\n",
      "Rent_Vac_PM \t float64\n",
      "Rent_Vac_PF \t int64\n",
      "location_id \t int64\n"
     ]
    }
   ],
   "source": [
    "for i in df.columns:\n",
    "    print(i, '\\t', df[i].dtype)"
   ]
  },
  {
   "cell_type": "code",
   "execution_count": 5,
   "id": "1126bf01",
   "metadata": {},
   "outputs": [],
   "source": [
    "# Community Resilience (Definition based on 10 different Risk factor in \"cre_quickguide_2019.pdf\" attached)\n",
    "# Race and Ethnicity\n",
    "# Poverty \n",
    "# Health Insurance \n",
    "# Sex\n",
    "# Income Inequality\n",
    "# Educational Attainment \n",
    "# Vehicle Access \n",
    "# Internet Access "
   ]
  },
  {
   "cell_type": "code",
   "execution_count": 6,
   "id": "d968503a",
   "metadata": {},
   "outputs": [],
   "source": [
    "# # df = censusdata.download('acs5', \n",
    "# #            2015,\n",
    "# #            censusdata.censusgeo([('state', '36'), ('county', '*')]),\n",
    "# #            ['B08301_001E', 'B08301_010E'])\n",
    "# # print(tabulate(df, headers='keys', tablefmt='psql'))\n",
    "# ind = df.index.tolist()\n",
    "# ind\n",
    "# # [index.geo[0][1] + index.geo[1][1] for index in ind] \n",
    "# [index.geo[0][1] for index in ind] "
   ]
  },
  {
   "cell_type": "code",
   "execution_count": 7,
   "id": "a44f65d0",
   "metadata": {},
   "outputs": [
    {
     "data": {
      "text/plain": [
       "0    11001000100\n",
       "1    11001000201\n",
       "2    11001000202\n",
       "3    11001000300\n",
       "4    11001000400\n",
       "Name: location_id, dtype: int64"
      ]
     },
     "execution_count": 7,
     "metadata": {},
     "output_type": "execute_result"
    }
   ],
   "source": [
    "list(df.columns)\n",
    "df.location_id.head()"
   ]
  },
  {
   "cell_type": "code",
   "execution_count": 8,
   "id": "3cbcdf70",
   "metadata": {},
   "outputs": [
    {
     "data": {
      "text/html": [
       "<div>\n",
       "<style scoped>\n",
       "    .dataframe tbody tr th:only-of-type {\n",
       "        vertical-align: middle;\n",
       "    }\n",
       "\n",
       "    .dataframe tbody tr th {\n",
       "        vertical-align: top;\n",
       "    }\n",
       "\n",
       "    .dataframe thead th {\n",
       "        text-align: right;\n",
       "    }\n",
       "</style>\n",
       "<table border=\"1\" class=\"dataframe\">\n",
       "  <thead>\n",
       "    <tr style=\"text-align: right;\">\n",
       "      <th></th>\n",
       "      <th>census_tract_id</th>\n",
       "      <th>depressed_19_perc</th>\n",
       "      <th>census_tract_name</th>\n",
       "      <th>black_non_hisp_perc</th>\n",
       "      <th>white_non_hisp_perc</th>\n",
       "      <th>hispanic_latino_perc</th>\n",
       "      <th>3_plus_cre_risk_factors_perc</th>\n",
       "      <th>below_poverty_level_perc</th>\n",
       "      <th>no_health_insurance_perc</th>\n",
       "      <th>male_perc</th>\n",
       "      <th>female_perc</th>\n",
       "      <th>income_inequality_gini_index</th>\n",
       "      <th>hs_grad_perc</th>\n",
       "      <th>households_no_vehicle_perc</th>\n",
       "      <th>households_w_internet_perc</th>\n",
       "    </tr>\n",
       "  </thead>\n",
       "  <tbody>\n",
       "    <tr>\n",
       "      <th>0</th>\n",
       "      <td>11001000100</td>\n",
       "      <td>21.2</td>\n",
       "      <td>Census Tract 1, District of Columbia, District of Columbia</td>\n",
       "      <td>0.7</td>\n",
       "      <td>76.5</td>\n",
       "      <td>14.0</td>\n",
       "      <td>18.78</td>\n",
       "      <td>6.4</td>\n",
       "      <td>2.3</td>\n",
       "      <td>47.9</td>\n",
       "      <td>52.1</td>\n",
       "      <td>5.160000e-01</td>\n",
       "      <td>97.0</td>\n",
       "      <td>22.5</td>\n",
       "      <td>97.3</td>\n",
       "    </tr>\n",
       "    <tr>\n",
       "      <th>1</th>\n",
       "      <td>11001000201</td>\n",
       "      <td>29.6</td>\n",
       "      <td>Census Tract 2.01, District of Columbia, District of Columbia</td>\n",
       "      <td>6.1</td>\n",
       "      <td>56.7</td>\n",
       "      <td>11.2</td>\n",
       "      <td>38.71</td>\n",
       "      <td>18.1</td>\n",
       "      <td>1.0</td>\n",
       "      <td>44.2</td>\n",
       "      <td>55.8</td>\n",
       "      <td>-6.666667e+08</td>\n",
       "      <td>100.0</td>\n",
       "      <td>-666666666.0</td>\n",
       "      <td>-666666666.0</td>\n",
       "    </tr>\n",
       "    <tr>\n",
       "      <th>2</th>\n",
       "      <td>11001000202</td>\n",
       "      <td>24.5</td>\n",
       "      <td>Census Tract 2.02, District of Columbia, District of Columbia</td>\n",
       "      <td>6.1</td>\n",
       "      <td>75.9</td>\n",
       "      <td>9.0</td>\n",
       "      <td>16.96</td>\n",
       "      <td>19.0</td>\n",
       "      <td>2.3</td>\n",
       "      <td>49.4</td>\n",
       "      <td>50.6</td>\n",
       "      <td>4.899000e-01</td>\n",
       "      <td>99.5</td>\n",
       "      <td>16.2</td>\n",
       "      <td>96.8</td>\n",
       "    </tr>\n",
       "    <tr>\n",
       "      <th>3</th>\n",
       "      <td>11001000300</td>\n",
       "      <td>23.9</td>\n",
       "      <td>Census Tract 3, District of Columbia, District of Columbia</td>\n",
       "      <td>8.5</td>\n",
       "      <td>73.2</td>\n",
       "      <td>7.9</td>\n",
       "      <td>9.90</td>\n",
       "      <td>18.5</td>\n",
       "      <td>1.0</td>\n",
       "      <td>45.9</td>\n",
       "      <td>54.1</td>\n",
       "      <td>4.429000e-01</td>\n",
       "      <td>99.3</td>\n",
       "      <td>17.4</td>\n",
       "      <td>98.3</td>\n",
       "    </tr>\n",
       "    <tr>\n",
       "      <th>4</th>\n",
       "      <td>11001000400</td>\n",
       "      <td>20.9</td>\n",
       "      <td>Census Tract 4, District of Columbia, District of Columbia</td>\n",
       "      <td>2.2</td>\n",
       "      <td>73.1</td>\n",
       "      <td>14.9</td>\n",
       "      <td>17.24</td>\n",
       "      <td>10.4</td>\n",
       "      <td>1.3</td>\n",
       "      <td>44.6</td>\n",
       "      <td>55.4</td>\n",
       "      <td>5.872000e-01</td>\n",
       "      <td>92.9</td>\n",
       "      <td>21.5</td>\n",
       "      <td>91.4</td>\n",
       "    </tr>\n",
       "  </tbody>\n",
       "</table>\n",
       "</div>"
      ],
      "text/plain": [
       "   census_tract_id  depressed_19_perc  \\\n",
       "0      11001000100               21.2   \n",
       "1      11001000201               29.6   \n",
       "2      11001000202               24.5   \n",
       "3      11001000300               23.9   \n",
       "4      11001000400               20.9   \n",
       "\n",
       "                                               census_tract_name  \\\n",
       "0     Census Tract 1, District of Columbia, District of Columbia   \n",
       "1  Census Tract 2.01, District of Columbia, District of Columbia   \n",
       "2  Census Tract 2.02, District of Columbia, District of Columbia   \n",
       "3     Census Tract 3, District of Columbia, District of Columbia   \n",
       "4     Census Tract 4, District of Columbia, District of Columbia   \n",
       "\n",
       "   black_non_hisp_perc  white_non_hisp_perc  hispanic_latino_perc  \\\n",
       "0                  0.7                 76.5                  14.0   \n",
       "1                  6.1                 56.7                  11.2   \n",
       "2                  6.1                 75.9                   9.0   \n",
       "3                  8.5                 73.2                   7.9   \n",
       "4                  2.2                 73.1                  14.9   \n",
       "\n",
       "   3_plus_cre_risk_factors_perc  below_poverty_level_perc  \\\n",
       "0                         18.78                       6.4   \n",
       "1                         38.71                      18.1   \n",
       "2                         16.96                      19.0   \n",
       "3                          9.90                      18.5   \n",
       "4                         17.24                      10.4   \n",
       "\n",
       "   no_health_insurance_perc  male_perc  female_perc  \\\n",
       "0                       2.3       47.9         52.1   \n",
       "1                       1.0       44.2         55.8   \n",
       "2                       2.3       49.4         50.6   \n",
       "3                       1.0       45.9         54.1   \n",
       "4                       1.3       44.6         55.4   \n",
       "\n",
       "   income_inequality_gini_index  hs_grad_perc  households_no_vehicle_perc  \\\n",
       "0                  5.160000e-01          97.0                        22.5   \n",
       "1                 -6.666667e+08         100.0                -666666666.0   \n",
       "2                  4.899000e-01          99.5                        16.2   \n",
       "3                  4.429000e-01          99.3                        17.4   \n",
       "4                  5.872000e-01          92.9                        21.5   \n",
       "\n",
       "   households_w_internet_perc  \n",
       "0                        97.3  \n",
       "1                -666666666.0  \n",
       "2                        96.8  \n",
       "3                        98.3  \n",
       "4                        91.4  "
      ]
     },
     "execution_count": 8,
     "metadata": {},
     "output_type": "execute_result"
    }
   ],
   "source": [
    "rename_cols = {'Location': 'census_tract_id',\n",
    "                'Indicator Rate Value': 'depressed_19_perc',\n",
    "                 'NAME': 'census_tract_name',\n",
    "                 'NH_Black_alone_PE':'black_non_hisp_perc',\n",
    "                 'NH_White_alone_PE':'white_non_hisp_perc',\n",
    "                 'Hispanic_PE':'hispanic_latino_perc',\n",
    "                 'PRED3_PE':'3_plus_cre_risk_factors_perc',\n",
    "                 'Blw_Pov_Lvl_PE':'below_poverty_level_perc',\n",
    "                 'No_Health_Ins_PE':'no_health_insurance_perc',\n",
    "                 'Male_PE':'male_perc',\n",
    "                 'Female_PE':'female_perc',\n",
    "                 'GINI_IND_Inequality_E':'income_inequality_gini_index',\n",
    "                 'HS_Grad_PE':'hs_grad_perc',\n",
    "                 'No_Veh_PE':'households_no_vehicle_perc',\n",
    "                 'Broadband_PE':'households_w_internet_perc'\n",
    "                }\n",
    "\n",
    "clean_df = df.rename(rename_cols, axis='columns')\n",
    "clean_df = clean_df[list(rename_cols.values())]\n",
    "clean_df.head()"
   ]
  },
  {
   "cell_type": "code",
   "execution_count": 9,
   "id": "24ec4b74",
   "metadata": {},
   "outputs": [
    {
     "name": "stdout",
     "output_type": "stream",
     "text": [
      "depressed_19_perc\n",
      "black_non_hisp_perc\n",
      "white_non_hisp_perc\n",
      "hispanic_latino_perc\n",
      "3_plus_cre_risk_factors_perc\n",
      "below_poverty_level_perc\n",
      "no_health_insurance_perc\n",
      "male_perc\n",
      "female_perc\n",
      "hs_grad_perc\n",
      "households_no_vehicle_perc\n",
      "households_w_internet_perc\n"
     ]
    }
   ],
   "source": [
    "# clean data to make sure percents do not fall below 0 or over 100\n",
    "for i in [i for i in list(clean_df.columns) if 'perc' in i]:\n",
    "    print(i)\n",
    "    clean_df[i] = clean_df[i].apply(lambda x: x if 0 < x < 100 else np.NaN)"
   ]
  },
  {
   "cell_type": "code",
   "execution_count": 23,
   "id": "4bab52f8",
   "metadata": {},
   "outputs": [
    {
     "name": "stdout",
     "output_type": "stream",
     "text": [
      "In 2019, the average depression rate within a D.C. census tract was 20%.\n",
      "0\n"
     ]
    },
    {
     "data": {
      "text/plain": [
       "[<matplotlib.lines.Line2D at 0x7fa506326460>]"
      ]
     },
     "execution_count": 23,
     "metadata": {},
     "output_type": "execute_result"
    },
    {
     "data": {
      "image/png": "[encoded data removed]",
      "text/plain": [
       "<Figure size 720x432 with 1 Axes>"
      ]
     },
     "metadata": {
      "needs_background": "light"
     },
     "output_type": "display_data"
    }
   ],
   "source": [
    "print(f\"In 2019, the average depression rate within a D.C. census tract was {int(clean_df.depressed_19_perc.mean())}%.\")\n",
    "\n",
    "fig, ax1 = plt.subplots(ncols=1, figsize=(10,6))\n",
    "\n",
    "print(clean_df.depressed_19_perc.isna().sum())\n",
    "\n",
    "sns.histplot(data = clean_df,\n",
    "            x = 'depressed_19_perc')\n",
    "ax1.set_title(\"Distribution of Percent Census Tract w/ Depression\")\n",
    "ax1.set_xlabel(\"% of Census Tract Population Diagnosed w/ Depression\")\n",
    "ax1.set_ylabel(\"# of Census Tracts\")\n",
    "\n",
    "plt.plot([clean_df.depressed_19_perc.mean(), clean_df.depressed_19_perc.mean()], # where the vertical line should be plotted\n",
    "         [0, 40], # the y min and y max - the y max should be the max value counts for that plot\n",
    "         color='red')"
   ]
  },
  {
   "cell_type": "code",
   "execution_count": 24,
   "id": "045dd430",
   "metadata": {},
   "outputs": [
    {
     "name": "stdout",
     "output_type": "stream",
     "text": [
      "In 2019, the average Black population within a D.C. census tract was 47%.\n",
      "0\n"
     ]
    },
    {
     "data": {
      "text/plain": [
       "[<matplotlib.lines.Line2D at 0x7fa4c007f340>]"
      ]
     },
     "execution_count": 24,
     "metadata": {},
     "output_type": "execute_result"
    },
    {
     "data": {
      "image/png": "[encoded data removed]",
      "text/plain": [
       "<Figure size 720x432 with 1 Axes>"
      ]
     },
     "metadata": {
      "needs_background": "light"
     },
     "output_type": "display_data"
    }
   ],
   "source": [
    "print(f\"In 2019, the average Black population within a D.C. census tract was {int(clean_df.black_non_hisp_perc.mean())}%.\")\n",
    "\n",
    "# print(clean_df.black_non_hisp_perc.isna().sum())\n",
    "\n",
    "fig, ax1 = plt.subplots(ncols=1, figsize=(10,6))\n",
    "\n",
    "sns.histplot(data = clean_df,\n",
    "            x = 'black_non_hisp_perc')\n",
    "ax1.set_title(\"Distribution of Black Population in D.C. Census Tracts\")\n",
    "ax1.set_xlabel(\"% of Census Tract Population Black Only, Non-Hispanic\")\n",
    "ax1.set_ylabel(\"# of Census Tracts\")\n",
    "\n",
    "plt.plot([clean_df.black_non_hisp_perc.mean(), clean_df.black_non_hisp_perc.mean()], # where the vertical line should be plotted\n",
    "         [0, 40], # the y min and y max - the y max should be the max value counts for that plot\n",
    "         color='red')"
   ]
  },
  {
   "cell_type": "code",
   "execution_count": 25,
   "id": "27008940",
   "metadata": {},
   "outputs": [
    {
     "name": "stdout",
     "output_type": "stream",
     "text": [
      "In 2019, the average poverty rate within a D.C. census tract was 17%.\n"
     ]
    },
    {
     "data": {
      "text/plain": [
       "[<matplotlib.lines.Line2D at 0x7fa521849ac0>]"
      ]
     },
     "execution_count": 25,
     "metadata": {},
     "output_type": "execute_result"
    },
    {
     "data": {
      "image/png": "[encoded data removed]",
      "text/plain": [
       "<Figure size 720x432 with 1 Axes>"
      ]
     },
     "metadata": {
      "needs_background": "light"
     },
     "output_type": "display_data"
    }
   ],
   "source": [
    "print(f\"In 2019, the average poverty rate within a D.C. census tract was {int(clean_df.below_poverty_level_perc.mean())}%.\")\n",
    "\n",
    "\n",
    "# print(clean_df.below_poverty_level_perc.isna().sum())\n",
    "\n",
    "fig, ax1 = plt.subplots(ncols=1, figsize=(10,6))\n",
    "sns.histplot(data = clean_df,\n",
    "            x = 'below_poverty_level_perc')\n",
    "ax1.set_title(\"Distribution of Population At or Below\\nthe Poverty Level in D.C. Census Tracts\")\n",
    "ax1.set_xlabel(\"% of Census Tract Population at or Below Poverty Level\")\n",
    "ax1.set_ylabel(\"# of Census Tracts\")\n",
    "\n",
    "plt.plot([clean_df.below_poverty_level_perc.mean(), clean_df.below_poverty_level_perc.mean()], # where the vertical line should be plotted\n",
    "         [0, 50], # the y min and y max - the y max should be the max value counts for that plot\n",
    "         color='red')"
   ]
  },
  {
   "cell_type": "code",
   "execution_count": 49,
   "id": "42351624",
   "metadata": {},
   "outputs": [
    {
     "name": "stdout",
     "output_type": "stream",
     "text": [
      "In 2019, the average rate of households without health insurance within a D.C. census tract was 3%.\n",
      "The 5 D.C. census tracts with the highest rates of households without health insurance were\n",
      "                                             census_tract_name  no_health_insurance_perc\n",
      "Census Tract 92.04, District of Columbia, District of Columbia                      19.2\n",
      "Census Tract 28.02, District of Columbia, District of Columbia                      14.5\n",
      "Census Tract 25.01, District of Columbia, District of Columbia                      13.6\n",
      "Census Tract 88.03, District of Columbia, District of Columbia                      12.3\n",
      "Census Tract 95.07, District of Columbia, District of Columbia                      10.5\n"
     ]
    },
    {
     "data": {
      "text/plain": [
       "[<matplotlib.lines.Line2D at 0x7fa50728e550>]"
      ]
     },
     "execution_count": 49,
     "metadata": {},
     "output_type": "execute_result"
    },
    {
     "data": {
      "image/png": "[encoded data removed]",
      "text/plain": [
       "<Figure size 720x432 with 1 Axes>"
      ]
     },
     "metadata": {
      "needs_background": "light"
     },
     "output_type": "display_data"
    }
   ],
   "source": [
    "print(f\"In 2019, the average rate of households without health insurance within a D.C. census tract was {int(clean_df.no_health_insurance_perc.mean())}%.\")\n",
    "print(f\"The 5 D.C. census tracts with the highest rates of households without health insurance were\")\n",
    "print(clean_df.sort_values(by='no_health_insurance_perc', ascending=False)[['census_tract_name', 'no_health_insurance_perc']].head(5).to_string(index=False))\n",
    "# print(clean_df.sort_values(by='households_no_vehicle_perc', ascending=False)['census_tract_name'].apply(lambda x: x[:x.index(',')]).head(5).to_string(index=False))\n",
    "\n",
    "# print(clean_df.no_health_insurance_perc.isna().sum())\n",
    "\n",
    "fig, ax1 = plt.subplots(ncols=1, figsize=(10,6))\n",
    "sns.histplot(data = clean_df,\n",
    "            x = 'no_health_insurance_perc')\n",
    "ax1.set_title(\"Distribution of Population without\\nHealth Insurance in D.C. Census Tracts\")\n",
    "ax1.set_xlabel(\"% of Census Tract Population w/out Health Insurance\")\n",
    "ax1.set_ylabel(\"# of Census Tracts\")\n",
    "\n",
    "plt.plot([clean_df.no_health_insurance_perc.mean(), clean_df.no_health_insurance_perc.mean()], # where the vertical line should be plotted\n",
    "         [0, 40], # the y min and y max - the y max should be the max value counts for that plot\n",
    "         color='red')"
   ]
  },
  {
   "cell_type": "code",
   "execution_count": 35,
   "id": "f62e8c56",
   "metadata": {},
   "outputs": [
    {
     "name": "stdout",
     "output_type": "stream",
     "text": [
      "In 2019, on average 34% of households within a D.C. tract did not own a car.\n",
      "The 5 D.C. tracts with the highest percentage of households without a car were:\n",
      "                                                  census_tract_name  \\\n",
      "174    Census Tract 108, District of Columbia, District of Columbia   \n",
      "92   Census Tract 74.01, District of Columbia, District of Columbia   \n",
      "79      Census Tract 64, District of Columbia, District of Columbia   \n",
      "173    Census Tract 107, District of Columbia, District of Columbia   \n",
      "108  Census Tract 77.08, District of Columbia, District of Columbia   \n",
      "\n",
      "     households_no_vehicle_perc  \n",
      "174                        83.0  \n",
      "92                         66.3  \n",
      "79                         63.7  \n",
      "173                        62.4  \n",
      "108                        61.5  \n"
     ]
    },
    {
     "data": {
      "image/png": "[encoded data removed]",
      "text/plain": [
       "<Figure size 720x432 with 1 Axes>"
      ]
     },
     "metadata": {
      "needs_background": "light"
     },
     "output_type": "display_data"
    }
   ],
   "source": [
    "# print(clean_df.households_no_vehicle_perc.isna().sum())\n",
    "\n",
    "fig, ax1 = plt.subplots(ncols=1, figsize=(10,6))\n",
    "sns.histplot(data = clean_df,\n",
    "            x = 'households_no_vehicle_perc')\n",
    "ax1.set_title(\"Distribution of Population without\\na Car in D.C. Census Tracts\")\n",
    "ax1.set_xlabel(\"% of Census Tract Population w/out a Car\")\n",
    "ax1.set_ylabel(\"# of Census Tracts\")\n",
    "\n",
    "plt.plot([clean_df.households_no_vehicle_perc.mean(), clean_df.households_no_vehicle_perc.mean()], # where the vertical line should be plotted\n",
    "         [0, 40], # the y min and y max - the y max should be the max value counts for that plot\n",
    "         color='red')"
   ]
  },
  {
   "cell_type": "code",
   "execution_count": 36,
   "id": "0be5bbc4",
   "metadata": {},
   "outputs": [
    {
     "name": "stdout",
     "output_type": "stream",
     "text": [
      "In 2019, on average 34% of households within a D.C. tract did not own a car.\n",
      "The 5 D.C. tracts with the highest percentage of households without a car were:\n"
     ]
    },
    {
     "data": {
      "text/html": [
       "<div>\n",
       "<style scoped>\n",
       "    .dataframe tbody tr th:only-of-type {\n",
       "        vertical-align: middle;\n",
       "    }\n",
       "\n",
       "    .dataframe tbody tr th {\n",
       "        vertical-align: top;\n",
       "    }\n",
       "\n",
       "    .dataframe thead th {\n",
       "        text-align: right;\n",
       "    }\n",
       "</style>\n",
       "<table border=\"1\" class=\"dataframe\">\n",
       "  <thead>\n",
       "    <tr style=\"text-align: right;\">\n",
       "      <th></th>\n",
       "      <th>census_tract_name</th>\n",
       "      <th>households_no_vehicle_perc</th>\n",
       "    </tr>\n",
       "  </thead>\n",
       "  <tbody>\n",
       "    <tr>\n",
       "      <th>174</th>\n",
       "      <td>Census Tract 108, District of Columbia, District of Columbia</td>\n",
       "      <td>83.0</td>\n",
       "    </tr>\n",
       "    <tr>\n",
       "      <th>92</th>\n",
       "      <td>Census Tract 74.01, District of Columbia, District of Columbia</td>\n",
       "      <td>66.3</td>\n",
       "    </tr>\n",
       "    <tr>\n",
       "      <th>79</th>\n",
       "      <td>Census Tract 64, District of Columbia, District of Columbia</td>\n",
       "      <td>63.7</td>\n",
       "    </tr>\n",
       "    <tr>\n",
       "      <th>173</th>\n",
       "      <td>Census Tract 107, District of Columbia, District of Columbia</td>\n",
       "      <td>62.4</td>\n",
       "    </tr>\n",
       "    <tr>\n",
       "      <th>108</th>\n",
       "      <td>Census Tract 77.08, District of Columbia, District of Columbia</td>\n",
       "      <td>61.5</td>\n",
       "    </tr>\n",
       "  </tbody>\n",
       "</table>\n",
       "</div>"
      ],
      "text/plain": [
       "                                                  census_tract_name  \\\n",
       "174    Census Tract 108, District of Columbia, District of Columbia   \n",
       "92   Census Tract 74.01, District of Columbia, District of Columbia   \n",
       "79      Census Tract 64, District of Columbia, District of Columbia   \n",
       "173    Census Tract 107, District of Columbia, District of Columbia   \n",
       "108  Census Tract 77.08, District of Columbia, District of Columbia   \n",
       "\n",
       "     households_no_vehicle_perc  \n",
       "174                        83.0  \n",
       "92                         66.3  \n",
       "79                         63.7  \n",
       "173                        62.4  \n",
       "108                        61.5  "
      ]
     },
     "execution_count": 36,
     "metadata": {},
     "output_type": "execute_result"
    }
   ],
   "source": [
    "print(f\"In 2019, on average {int(clean_df.households_no_vehicle_perc.mean())}% of households within a D.C. tract did not own a car.\")\n",
    "print(f\"The 5 D.C. tracts with the highest percentage of households without a car were:\")\n",
    "clean_df.sort_values(by='households_no_vehicle_perc', ascending=False)[['census_tract_name', 'households_no_vehicle_perc']].head(5)"
   ]
  },
  {
   "cell_type": "code",
   "execution_count": 15,
   "id": "5f395a4f",
   "metadata": {},
   "outputs": [
    {
     "name": "stdout",
     "output_type": "stream",
     "text": [
      "0\n"
     ]
    },
    {
     "data": {
      "text/plain": [
       "[<matplotlib.lines.Line2D at 0x7fa521519850>]"
      ]
     },
     "execution_count": 15,
     "metadata": {},
     "output_type": "execute_result"
    },
    {
     "data": {
      "image/png": "[encoded data removed]",
      "text/plain": [
       "<Figure size 720x432 with 1 Axes>"
      ]
     },
     "metadata": {
      "needs_background": "light"
     },
     "output_type": "display_data"
    }
   ],
   "source": [
    "print(clean_df.male_perc.isna().sum())\n",
    "\n",
    "fig, ax1 = plt.subplots(ncols=1, figsize=(10,6))\n",
    "sns.histplot(data = clean_df,\n",
    "            x = 'male_perc')\n",
    "ax1.set_title(\"Percent of D.C. Census Tract that is Male\")\n",
    "ax1.set_xlabel(\"% of Census Tract Population that is Male\")\n",
    "ax1.set_ylabel(\"# of Census Tracts\")\n",
    "\n",
    "plt.plot([clean_df.male_perc.mean(), clean_df.male_perc.mean()], # where the vertical line should be plotted\n",
    "         [0, 35], # the y min and y max - the y max should be the max value counts for that plot\n",
    "         color='red')"
   ]
  },
  {
   "cell_type": "markdown",
   "id": "6bff86cf",
   "metadata": {},
   "source": [
    "# Create an indicator column for whether they are 2 standard deviations above (outliers)\n",
    "* depressed_19_perc"
   ]
  },
  {
   "cell_type": "code",
   "execution_count": 84,
   "id": "a0956120",
   "metadata": {},
   "outputs": [
    {
     "data": {
      "text/plain": [
       "0    161\n",
       "1     14\n",
       "3      2\n",
       "2      1\n",
       "Name: counts_severe, dtype: int64"
      ]
     },
     "execution_count": 84,
     "metadata": {},
     "output_type": "execute_result"
    }
   ],
   "source": [
    "for i in cols_to_check:\n",
    "    clean_df['severe_'+i] = np.where(clean_df[i] > (clean_df[i].mean()+2*clean_df[i].std()),\n",
    "                                     True,\n",
    "                                     False)\n",
    "\n",
    "clean_df['counts_severe'] = clean_df[['severe_'+i for i in cols_to_check]].apply(lambda x: sum(x), axis= 'columns')\n",
    "\n",
    "# see for how many tracts this is true\n",
    "clean_df['counts_severe'].value_counts()"
   ]
  },
  {
   "cell_type": "markdown",
   "id": "ae70d6d8",
   "metadata": {},
   "source": [
    "# Create an indicator column for whether that census tract has > 50% Black population"
   ]
  },
  {
   "cell_type": "code",
   "execution_count": 82,
   "id": "681c4bcf",
   "metadata": {},
   "outputs": [],
   "source": [
    "cols_to_check = ['depressed_19_perc',\n",
    "                'below_poverty_level_perc',\n",
    "                'no_health_insurance_perc',\n",
    "                'households_no_vehicle_perc'\n",
    "                ]"
   ]
  },
  {
   "cell_type": "code",
   "execution_count": 80,
   "id": "cad0071e",
   "metadata": {},
   "outputs": [
    {
     "data": {
      "text/plain": [
       "False    96\n",
       "True     82\n",
       "Name: majority_black_population, dtype: int64"
      ]
     },
     "execution_count": 80,
     "metadata": {},
     "output_type": "execute_result"
    }
   ],
   "source": [
    "clean_df['majority_black_population'] = clean_df['black_non_hisp_perc'] > 50\n",
    "clean_df.majority_black_population.value_counts()"
   ]
  },
  {
   "cell_type": "code",
   "execution_count": 81,
   "id": "40d620aa",
   "metadata": {},
   "outputs": [
    {
     "name": "stdout",
     "output_type": "stream",
     "text": [
      "178\n",
      "82\n"
     ]
    }
   ],
   "source": [
    "majority_black_pop = clean_df[clean_df.majority_black_population].copy(deep=True)\n",
    "print(len(clean_df))\n",
    "print(len(majority_black_pop)) "
   ]
  },
  {
   "cell_type": "code",
   "execution_count": 93,
   "id": "c603afa9",
   "metadata": {},
   "outputs": [
    {
     "data": {
      "text/plain": [
       "0       Census Tract 1, District of Columbia, District of Columbia\n",
       "1    Census Tract 2.01, District of Columbia, District of Columbia\n",
       "2    Census Tract 2.02, District of Columbia, District of Columbia\n",
       "3       Census Tract 3, District of Columbia, District of Columbia\n",
       "4       Census Tract 4, District of Columbia, District of Columbia\n",
       "Name: census_tract_name, dtype: object"
      ]
     },
     "execution_count": 93,
     "metadata": {},
     "output_type": "execute_result"
    }
   ],
   "source": [
    "clean_df.columns\n",
    "clean_df.census_tract_name.head()"
   ]
  },
  {
   "cell_type": "code",
   "execution_count": 97,
   "id": "8b6dd7d9",
   "metadata": {},
   "outputs": [
    {
     "name": "stdout",
     "output_type": "stream",
     "text": [
      "depressed_19_perc\n",
      "\t 20.56292134831461\n",
      "\t 20.25487804878048\n",
      "                                             census_tract_name  depressed_19_perc\n",
      "Census Tract 88.03, District of Columbia, District of Columbia               25.7\n",
      "Census Tract 74.01, District of Columbia, District of Columbia               25.7\n",
      "Census Tract 74.06, District of Columbia, District of Columbia               24.6\n",
      "Census Tract 98.02, District of Columbia, District of Columbia               23.8\n",
      "Census Tract 74.08, District of Columbia, District of Columbia               23.6\n",
      "below_poverty_level_perc\n",
      "\t 17.10561797752809\n",
      "\t 24.91585365853658\n",
      "                                             census_tract_name  below_poverty_level_perc\n",
      "Census Tract 74.01, District of Columbia, District of Columbia                      68.6\n",
      "Census Tract 98.02, District of Columbia, District of Columbia                      60.6\n",
      "Census Tract 74.08, District of Columbia, District of Columbia                      59.5\n",
      "Census Tract 74.06, District of Columbia, District of Columbia                      54.8\n",
      "Census Tract 75.04, District of Columbia, District of Columbia                      54.4\n",
      "no_health_insurance_perc\n",
      "\t 3.8335227272727295\n",
      "\t 4.817073170731708\n",
      "                                             census_tract_name  no_health_insurance_perc\n",
      "Census Tract 92.04, District of Columbia, District of Columbia                      19.2\n",
      "Census Tract 88.03, District of Columbia, District of Columbia                      12.3\n",
      "Census Tract 95.07, District of Columbia, District of Columbia                      10.5\n",
      "Census Tract 88.04, District of Columbia, District of Columbia                      10.5\n",
      "Census Tract 96.04, District of Columbia, District of Columbia                      10.2\n",
      "households_no_vehicle_perc\n",
      "\t 34.78238636363636\n",
      "\t 37.148148148148145\n",
      "                                             census_tract_name  households_no_vehicle_perc\n",
      "Census Tract 74.01, District of Columbia, District of Columbia                        66.3\n",
      "   Census Tract 64, District of Columbia, District of Columbia                        63.7\n",
      "Census Tract 77.08, District of Columbia, District of Columbia                        61.5\n",
      "Census Tract 96.02, District of Columbia, District of Columbia                        60.8\n",
      "Census Tract 98.02, District of Columbia, District of Columbia                        59.1\n"
     ]
    }
   ],
   "source": [
    "for i in cols_to_check:\n",
    "    print(i)\n",
    "    print(\"\\t\", clean_df[i].mean())\n",
    "#     print(clean_df[['census_tract_name', i]].sort_values(by=i, ascending=False).head().to_string(index=False))\n",
    "    print(\"\\t\", majority_black_pop[i].mean())\n",
    "    print(majority_black_pop.sort_values(by=i, ascending=False)[['census_tract_name', i]].head(5).to_string(index=False))"
   ]
  },
  {
   "cell_type": "code",
   "execution_count": 16,
   "id": "419e6c7a",
   "metadata": {},
   "outputs": [],
   "source": [
    "# print(clean_df.income_inequality_gini_index.isna().sum())\n",
    "\n",
    "# fig, ax1 = plt.subplots(ncols=1, figsize=(10,6))\n",
    "# sns.histplot(data = clean_df,\n",
    "#             x = 'income_inequality_gini_index')\n",
    "# ax1.set_title(\"Percent of D.C. Census Tract that is Male\")\n",
    "# ax1.set_xlabel(\"% of Census Tract Population that is Male\")\n",
    "# ax1.set_ylabel(\"# of Census Tracts\")\n",
    "\n",
    "# plt.plot([clean_df.income_inequality_gini_index.mean(), clean_df.income_inequality_gini_index.mean()], # where the vertical line should be plotted\n",
    "#          [0, 35], # the y min and y max - the y max should be the max value counts for that plot\n",
    "#          color='red')"
   ]
  },
  {
   "cell_type": "code",
   "execution_count": 17,
   "id": "2a28a243",
   "metadata": {},
   "outputs": [
    {
     "data": {
      "text/plain": [
       "-666666666.0"
      ]
     },
     "execution_count": 17,
     "metadata": {},
     "output_type": "execute_result"
    }
   ],
   "source": [
    "clean_df.income_inequality_gini_index.min()"
   ]
  },
  {
   "cell_type": "code",
   "execution_count": 18,
   "id": "cb8d3043",
   "metadata": {},
   "outputs": [
    {
     "data": {
      "text/plain": [
       "Index(['census_tract_id', 'depressed_19_perc', 'census_tract_name',\n",
       "       'black_non_hisp_perc', 'white_non_hisp_perc', 'hispanic_latino_perc',\n",
       "       '3_plus_cre_risk_factors_perc', 'below_poverty_level_perc',\n",
       "       'no_health_insurance_perc', 'male_perc', 'female_perc',\n",
       "       'income_inequality_gini_index', 'hs_grad_perc',\n",
       "       'households_no_vehicle_perc', 'households_w_internet_perc'],\n",
       "      dtype='object')"
      ]
     },
     "execution_count": 18,
     "metadata": {},
     "output_type": "execute_result"
    }
   ],
   "source": [
    "clean_df.columns"
   ]
  }
 ],
 "metadata": {
  "kernelspec": {
   "display_name": "Python 3 (ipykernel)",
   "language": "python",
   "name": "python3"
  },
  "language_info": {
   "codemirror_mode": {
    "name": "ipython",
    "version": 3
   },
   "file_extension": ".py",
   "mimetype": "text/x-python",
   "name": "python",
   "nbconvert_exporter": "python",
   "pygments_lexer": "ipython3",
   "version": "3.9.12"
  }
 },
 "nbformat": 4,
 "nbformat_minor": 5
}
