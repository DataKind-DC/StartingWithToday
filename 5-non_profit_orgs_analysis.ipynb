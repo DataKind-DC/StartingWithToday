{
 "cells": [
  {
   "cell_type": "code",
   "execution_count": 1,
   "metadata": {
    "ExecuteTime": {
     "end_time": "2022-10-29T01:41:00.070302Z",
     "start_time": "2022-10-29T01:40:57.443197Z"
    }
   },
   "outputs": [],
   "source": [
    "import pandas as pd\n",
    "import numpy as np\n",
    "import seaborn as sns\n",
    "import matplotlib.pyplot as plt\n",
    "\n",
    "import sqlite3\n",
    "from urllib.request import urlopen\n",
    "import json\n",
    "import requests\n",
    "\n",
    "import plotly.express as px"
   ]
  },
  {
   "cell_type": "code",
   "execution_count": 2,
   "metadata": {
    "ExecuteTime": {
     "end_time": "2022-10-29T01:41:00.095571Z",
     "start_time": "2022-10-29T01:41:00.073160Z"
    }
   },
   "outputs": [],
   "source": [
    "df = pd.read_csv('../StartingWithToday/data/non-profit-orgs.csv')"
   ]
  },
  {
   "cell_type": "markdown",
   "metadata": {},
   "source": [
    "Access the data that was web-scrapped and stored in the database."
   ]
  },
  {
   "cell_type": "code",
   "execution_count": 3,
   "metadata": {
    "ExecuteTime": {
     "end_time": "2022-10-29T01:41:00.118206Z",
     "start_time": "2022-10-29T01:41:00.101836Z"
    }
   },
   "outputs": [
    {
     "data": {
      "text/plain": [
       "(1000, 10)"
      ]
     },
     "execution_count": 3,
     "metadata": {},
     "output_type": "execute_result"
    }
   ],
   "source": [
    "df.shape"
   ]
  },
  {
   "cell_type": "code",
   "execution_count": 4,
   "metadata": {
    "ExecuteTime": {
     "end_time": "2022-10-29T01:41:00.151434Z",
     "start_time": "2022-10-29T01:41:00.132237Z"
    }
   },
   "outputs": [
    {
     "data": {
      "text/html": [
       "<div>\n",
       "<style scoped>\n",
       "    .dataframe tbody tr th:only-of-type {\n",
       "        vertical-align: middle;\n",
       "    }\n",
       "\n",
       "    .dataframe tbody tr th {\n",
       "        vertical-align: top;\n",
       "    }\n",
       "\n",
       "    .dataframe thead th {\n",
       "        text-align: right;\n",
       "    }\n",
       "</style>\n",
       "<table border=\"1\" class=\"dataframe\">\n",
       "  <thead>\n",
       "    <tr style=\"text-align: right;\">\n",
       "      <th></th>\n",
       "      <th>org_url</th>\n",
       "      <th>name</th>\n",
       "      <th>location</th>\n",
       "      <th>website</th>\n",
       "      <th>about</th>\n",
       "      <th>services</th>\n",
       "      <th>org_type</th>\n",
       "      <th>lat</th>\n",
       "      <th>lng</th>\n",
       "      <th>zip</th>\n",
       "    </tr>\n",
       "  </thead>\n",
       "  <tbody>\n",
       "    <tr>\n",
       "      <th>0</th>\n",
       "      <td>https://www.idealist.org/en/nonprofit/54bb0a44...</td>\n",
       "      <td>Maryland/DC Odyssey of the Mind</td>\n",
       "      <td>Maryland Ave, Bethesda, MD 20816, USA</td>\n",
       "      <td>mdodyssey.org?utm_medium=referral&amp;amp;utm_sour...</td>\n",
       "      <td>No value</td>\n",
       "      <td>No value</td>\n",
       "      <td>No value</td>\n",
       "      <td>38.9446992</td>\n",
       "      <td>-77.1210422</td>\n",
       "      <td>20816</td>\n",
       "    </tr>\n",
       "    <tr>\n",
       "      <th>1</th>\n",
       "      <td>https://www.idealist.org/en/nonprofit/3ccbd3d6...</td>\n",
       "      <td>Center for the Study of Social Policy</td>\n",
       "      <td>1575 Eye Street, NW - Suite 500, Washington, D...</td>\n",
       "      <td>www.cssp.org?utm_medium=referral&amp;amp;utm_sourc...</td>\n",
       "      <td>Organization Overview&lt;/strong&gt;&lt;/p&gt;&lt;p&gt;The Cente...</td>\n",
       "      <td>Children &amp;amp; Youth</td>\n",
       "      <td>Nonprofit</td>\n",
       "      <td>38.9016662</td>\n",
       "      <td>-77.03546519999999</td>\n",
       "      <td>20005</td>\n",
       "    </tr>\n",
       "    <tr>\n",
       "      <th>2</th>\n",
       "      <td>https://www.idealist.org/en/nonprofit/71cf8af9...</td>\n",
       "      <td>HIAS</td>\n",
       "      <td>1300 Spring Street, Silver Spring, MD 20910, U...</td>\n",
       "      <td>www.hias.org?utm_medium=referral&amp;amp;utm_sourc...</td>\n",
       "      <td>No value</td>\n",
       "      <td>No value</td>\n",
       "      <td>No value</td>\n",
       "      <td>38.9989623</td>\n",
       "      <td>-77.0319777</td>\n",
       "      <td>20910</td>\n",
       "    </tr>\n",
       "  </tbody>\n",
       "</table>\n",
       "</div>"
      ],
      "text/plain": [
       "                                             org_url  \\\n",
       "0  https://www.idealist.org/en/nonprofit/54bb0a44...   \n",
       "1  https://www.idealist.org/en/nonprofit/3ccbd3d6...   \n",
       "2  https://www.idealist.org/en/nonprofit/71cf8af9...   \n",
       "\n",
       "                                    name  \\\n",
       "0        Maryland/DC Odyssey of the Mind   \n",
       "1  Center for the Study of Social Policy   \n",
       "2                                   HIAS   \n",
       "\n",
       "                                            location  \\\n",
       "0              Maryland Ave, Bethesda, MD 20816, USA   \n",
       "1  1575 Eye Street, NW - Suite 500, Washington, D...   \n",
       "2  1300 Spring Street, Silver Spring, MD 20910, U...   \n",
       "\n",
       "                                             website  \\\n",
       "0  mdodyssey.org?utm_medium=referral&amp;utm_sour...   \n",
       "1  www.cssp.org?utm_medium=referral&amp;utm_sourc...   \n",
       "2  www.hias.org?utm_medium=referral&amp;utm_sourc...   \n",
       "\n",
       "                                               about              services  \\\n",
       "0                                           No value              No value   \n",
       "1  Organization Overview</strong></p><p>The Cente...  Children &amp; Youth   \n",
       "2                                           No value              No value   \n",
       "\n",
       "    org_type         lat                 lng    zip  \n",
       "0   No value  38.9446992         -77.1210422  20816  \n",
       "1  Nonprofit  38.9016662  -77.03546519999999  20005  \n",
       "2   No value  38.9989623         -77.0319777  20910  "
      ]
     },
     "execution_count": 4,
     "metadata": {},
     "output_type": "execute_result"
    }
   ],
   "source": [
    "df.head(3)"
   ]
  },
  {
   "cell_type": "code",
   "execution_count": 5,
   "metadata": {
    "ExecuteTime": {
     "end_time": "2022-10-29T01:41:00.163044Z",
     "start_time": "2022-10-29T01:41:00.153769Z"
    }
   },
   "outputs": [
    {
     "data": {
      "text/plain": [
       "org_url     0\n",
       "name        0\n",
       "location    2\n",
       "website     0\n",
       "about       0\n",
       "services    0\n",
       "org_type    0\n",
       "lat         0\n",
       "lng         0\n",
       "zip         2\n",
       "dtype: int64"
      ]
     },
     "execution_count": 5,
     "metadata": {},
     "output_type": "execute_result"
    }
   ],
   "source": [
    "df.isnull().sum()"
   ]
  },
  {
   "cell_type": "code",
   "execution_count": 6,
   "metadata": {
    "ExecuteTime": {
     "end_time": "2022-10-29T01:41:00.184278Z",
     "start_time": "2022-10-29T01:41:00.169682Z"
    }
   },
   "outputs": [
    {
     "data": {
      "text/plain": [
       "org_url     object\n",
       "name        object\n",
       "location    object\n",
       "website     object\n",
       "about       object\n",
       "services    object\n",
       "org_type    object\n",
       "lat         object\n",
       "lng         object\n",
       "zip         object\n",
       "dtype: object"
      ]
     },
     "execution_count": 6,
     "metadata": {},
     "output_type": "execute_result"
    }
   ],
   "source": [
    "df.dtypes"
   ]
  },
  {
   "cell_type": "code",
   "execution_count": null,
   "metadata": {
    "ExecuteTime": {
     "end_time": "2022-10-25T02:37:58.289410Z",
     "start_time": "2022-10-25T02:37:58.281734Z"
    }
   },
   "outputs": [],
   "source": [
    "df_svcs = pd.DataFrame(df.groupby(['services','zip'])['org_name'].count())\n",
    "df_svcs.reset_index(inplace=True)"
   ]
  },
  {
   "cell_type": "code",
   "execution_count": null,
   "metadata": {
    "ExecuteTime": {
     "end_time": "2022-10-25T02:37:58.300322Z",
     "start_time": "2022-10-25T02:37:58.293012Z"
    }
   },
   "outputs": [],
   "source": [
    "df_svcs = df_svcs[df_svcs['services'] != '']"
   ]
  },
  {
   "cell_type": "code",
   "execution_count": null,
   "metadata": {
    "ExecuteTime": {
     "end_time": "2022-10-25T02:37:58.308926Z",
     "start_time": "2022-10-25T02:37:58.303728Z"
    }
   },
   "outputs": [],
   "source": [
    "df_svcs['services'] = [service.replace('&amp;','&') for service in df_svcs['services']]"
   ]
  },
  {
   "cell_type": "code",
   "execution_count": null,
   "metadata": {
    "ExecuteTime": {
     "end_time": "2022-10-25T02:43:14.119904Z",
     "start_time": "2022-10-25T02:43:14.115907Z"
    }
   },
   "outputs": [],
   "source": [
    "df_svcs.rename(columns={'org_name':'nbr_orgs'},inplace=True)"
   ]
  },
  {
   "cell_type": "code",
   "execution_count": null,
   "metadata": {
    "ExecuteTime": {
     "end_time": "2022-10-25T02:50:09.920470Z",
     "start_time": "2022-10-25T02:50:09.913620Z"
    }
   },
   "outputs": [],
   "source": [
    "df_svcs = pd.pivot(df_svcs, index=['zip'], columns=['services'], values='nbr_orgs')"
   ]
  },
  {
   "cell_type": "code",
   "execution_count": null,
   "metadata": {
    "ExecuteTime": {
     "end_time": "2022-10-25T03:01:13.895928Z",
     "start_time": "2022-10-25T03:01:13.890714Z"
    }
   },
   "outputs": [],
   "source": [
    "df_svcs.reset_index(inplace=True)"
   ]
  },
  {
   "cell_type": "code",
   "execution_count": null,
   "metadata": {
    "ExecuteTime": {
     "end_time": "2022-10-25T03:01:21.609121Z",
     "start_time": "2022-10-25T03:01:21.430675Z"
    }
   },
   "outputs": [],
   "source": [
    "with urlopen('https://raw.githubusercontent.com/OpenDataDE/State-zip-code-GeoJSON/master/dc_district_of_columbia_zip_codes_geo.min.json') as response:\n",
    "    zips = json.load(response)"
   ]
  },
  {
   "cell_type": "code",
   "execution_count": null,
   "metadata": {
    "ExecuteTime": {
     "end_time": "2022-10-25T03:06:26.160033Z",
     "start_time": "2022-10-25T03:06:25.407925Z"
    }
   },
   "outputs": [],
   "source": [
    "fig = px.choropleth(df_svcs,\n",
    "                    geojson=zips, \n",
    "                    locations='zip', \n",
    "                    color='Infancia & Juventud',\n",
    "                    color_continuous_scale=\"Viridis\",\n",
    "                    range_color=(1,50),\n",
    "                    featureidkey=\"properties.ZCTA5CE10\",\n",
    "                    scope=\"usa\",\n",
    "                    center = {\"lat\": 38.927216, \"lon\": -77.1034053})\n",
    "fig.update_layout(margin={\"r\":0,\"t\":0,\"l\":0,\"b\":0},\n",
    "                 title_text = 'Number of non-profits in DC')"
   ]
  }
 ],
 "metadata": {
  "kernelspec": {
   "display_name": "Python 3",
   "language": "python",
   "name": "python3"
  },
  "language_info": {
   "codemirror_mode": {
    "name": "ipython",
    "version": 3
   },
   "file_extension": ".py",
   "mimetype": "text/x-python",
   "name": "python",
   "nbconvert_exporter": "python",
   "pygments_lexer": "ipython3",
   "version": "3.7.4"
  }
 },
 "nbformat": 4,
 "nbformat_minor": 2
}
