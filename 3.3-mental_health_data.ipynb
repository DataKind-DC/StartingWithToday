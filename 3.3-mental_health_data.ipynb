{
 "cells": [
  {
   "cell_type": "code",
   "execution_count": 33,
   "metadata": {},
   "outputs": [],
   "source": [
    "# Author: Yecheng Huang\n",
    "import pandas as pd"
   ]
  },
  {
   "cell_type": "code",
   "execution_count": 105,
   "metadata": {},
   "outputs": [],
   "source": [
    "#data comes from the following linke: only contains DC area:\n",
    "#https://www.dchealthmatters.org/indicators/index/view?indicatorId=2867&localeTypeId=3&periodId=244\n",
    "#for more data, visit https://www.cdc.gov/places/\n",
    "df = pd.read_csv('indicator_data_download_20221022.csv')"
   ]
  },
  {
   "cell_type": "code",
   "execution_count": 108,
   "metadata": {},
   "outputs": [],
   "source": [
    "df.Location = df.Location.astype(str)"
   ]
  },
  {
   "cell_type": "code",
   "execution_count": 113,
   "metadata": {},
   "outputs": [],
   "source": [
    "df_1 = df[['Indicator Rate Value','Location']]"
   ]
  },
  {
   "cell_type": "code",
   "execution_count": 118,
   "metadata": {},
   "outputs": [],
   "source": [
    "zcta = pd.read_csv('https://www2.census.gov/geo/docs/maps-data/data/rel2020/zcta520/tab20_zcta520_tract20_natl.txt',\n",
    "                   sep='|')\n",
    "zcta.columns = zcta.columns.str.lower()"
   ]
  },
  {
   "cell_type": "code",
   "execution_count": 119,
   "metadata": {},
   "outputs": [],
   "source": [
    "zcta['geoid_tract_20'] = zcta['geoid_tract_20'].astype(str)"
   ]
  },
  {
   "cell_type": "code",
   "execution_count": 121,
   "metadata": {},
   "outputs": [],
   "source": [
    "#extract zipcode\n",
    "zcta = zcta.dropna(subset=['geoid_zcta5_20'])\n",
    "zcta['Location'] = zcta['namelsad_zcta5_20'].apply(lambda x:x[-5:])"
   ]
  },
  {
   "cell_type": "code",
   "execution_count": 122,
   "metadata": {},
   "outputs": [],
   "source": [
    "#Join: transform zip to tract\n",
    "df_2 = df_1.merge(zcta[['geoid_tract_20','Location']],on='Location')"
   ]
  },
  {
   "cell_type": "code",
   "execution_count": 125,
   "metadata": {},
   "outputs": [
    {
     "data": {
      "text/html": [
       "<div>\n",
       "<style scoped>\n",
       "    .dataframe tbody tr th:only-of-type {\n",
       "        vertical-align: middle;\n",
       "    }\n",
       "\n",
       "    .dataframe tbody tr th {\n",
       "        vertical-align: top;\n",
       "    }\n",
       "\n",
       "    .dataframe thead th {\n",
       "        text-align: right;\n",
       "    }\n",
       "</style>\n",
       "<table border=\"1\" class=\"dataframe\">\n",
       "  <thead>\n",
       "    <tr style=\"text-align: right;\">\n",
       "      <th></th>\n",
       "      <th>Depression Rate (Adult)</th>\n",
       "      <th>Location</th>\n",
       "      <th>geoid_tract_20</th>\n",
       "    </tr>\n",
       "  </thead>\n",
       "  <tbody>\n",
       "    <tr>\n",
       "      <th>0</th>\n",
       "      <td>20.1</td>\n",
       "      <td>20001</td>\n",
       "      <td>11001003000</td>\n",
       "    </tr>\n",
       "    <tr>\n",
       "      <th>1</th>\n",
       "      <td>20.1</td>\n",
       "      <td>20001</td>\n",
       "      <td>11001003100</td>\n",
       "    </tr>\n",
       "    <tr>\n",
       "      <th>2</th>\n",
       "      <td>20.1</td>\n",
       "      <td>20001</td>\n",
       "      <td>11001003200</td>\n",
       "    </tr>\n",
       "    <tr>\n",
       "      <th>3</th>\n",
       "      <td>20.1</td>\n",
       "      <td>20001</td>\n",
       "      <td>11001003301</td>\n",
       "    </tr>\n",
       "    <tr>\n",
       "      <th>4</th>\n",
       "      <td>20.1</td>\n",
       "      <td>20001</td>\n",
       "      <td>11001003302</td>\n",
       "    </tr>\n",
       "    <tr>\n",
       "      <th>...</th>\n",
       "      <td>...</td>\n",
       "      <td>...</td>\n",
       "      <td>...</td>\n",
       "    </tr>\n",
       "    <tr>\n",
       "      <th>287</th>\n",
       "      <td>31.5</td>\n",
       "      <td>20064</td>\n",
       "      <td>11001009511</td>\n",
       "    </tr>\n",
       "    <tr>\n",
       "      <th>288</th>\n",
       "      <td>9.9</td>\n",
       "      <td>20317</td>\n",
       "      <td>11001002302</td>\n",
       "    </tr>\n",
       "    <tr>\n",
       "      <th>289</th>\n",
       "      <td>19.0</td>\n",
       "      <td>20319</td>\n",
       "      <td>11001011002</td>\n",
       "    </tr>\n",
       "    <tr>\n",
       "      <th>290</th>\n",
       "      <td>19.2</td>\n",
       "      <td>20373</td>\n",
       "      <td>11001007301</td>\n",
       "    </tr>\n",
       "    <tr>\n",
       "      <th>291</th>\n",
       "      <td>18.0</td>\n",
       "      <td>20390</td>\n",
       "      <td>11001007000</td>\n",
       "    </tr>\n",
       "  </tbody>\n",
       "</table>\n",
       "<p>292 rows × 3 columns</p>\n",
       "</div>"
      ],
      "text/plain": [
       "     Depression Rate (Adult) Location geoid_tract_20\n",
       "0                       20.1    20001    11001003000\n",
       "1                       20.1    20001    11001003100\n",
       "2                       20.1    20001    11001003200\n",
       "3                       20.1    20001    11001003301\n",
       "4                       20.1    20001    11001003302\n",
       "..                       ...      ...            ...\n",
       "287                     31.5    20064    11001009511\n",
       "288                      9.9    20317    11001002302\n",
       "289                     19.0    20319    11001011002\n",
       "290                     19.2    20373    11001007301\n",
       "291                     18.0    20390    11001007000\n",
       "\n",
       "[292 rows x 3 columns]"
      ]
     },
     "execution_count": 125,
     "metadata": {},
     "output_type": "execute_result"
    }
   ],
   "source": [
    "df_2 = df_2.rename(columns={'Indicator Rate Value':'Depression Rate (Adult)'})\n",
    "df_2"
   ]
  },
  {
   "cell_type": "code",
   "execution_count": 126,
   "metadata": {},
   "outputs": [],
   "source": [
    "df_2.to_csv('2019_Depressionrate_tract.csv',index=False)"
   ]
  }
 ],
 "metadata": {
  "kernelspec": {
   "display_name": "Python 3.10.7 64-bit",
   "language": "python",
   "name": "python3"
  },
  "language_info": {
   "codemirror_mode": {
    "name": "ipython",
    "version": 3
   },
   "file_extension": ".py",
   "mimetype": "text/x-python",
   "name": "python",
   "nbconvert_exporter": "python",
   "pygments_lexer": "ipython3",
   "version": "3.10.7"
  },
  "orig_nbformat": 4,
  "vscode": {
   "interpreter": {
    "hash": "aee8b7b246df8f9039afb4144a1f6fd8d2ca17a180786b69acc140d282b71a49"
   }
  }
 },
 "nbformat": 4,
 "nbformat_minor": 2
}
