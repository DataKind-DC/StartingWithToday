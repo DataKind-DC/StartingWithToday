{
 "cells": [
  {
   "cell_type": "code",
   "execution_count": 177,
   "metadata": {
    "ExecuteTime": {
     "end_time": "2022-12-07T00:10:46.588356Z",
     "start_time": "2022-12-07T00:10:45.275269Z"
    }
   },
   "outputs": [],
   "source": [
    "# Author: Yecheng Huang\n",
    "# Updates by: Corrina Calanoc\n",
    "import pandas as pd\n",
    "import os"
   ]
  },
  {
   "cell_type": "markdown",
   "metadata": {},
   "source": [
    "# Pull data on depression rates in each census tract in DC and PG County in MD\n",
    "\n",
    "**Instructions:**\n",
    "* Source: https://chronicdata.cdc.gov/500-Cities-Places/PLACES-Local-Data-for-Better-Health-Place-Data-202/eav7-hnsx\n",
    "* Saved in Google Drive here: https://drive.google.com/drive/folders/1EbmA0ctsWNaSIuINAJhZ1UVY3F9TGryM\n",
    "  * Name: `PLACES__Local_Data_for_Better_Health__Census_Tract_Data_2022_release.csv`\n",
    "* for more data, visit https://www.cdc.gov/places/"
   ]
  },
  {
   "cell_type": "code",
   "execution_count": 178,
   "metadata": {
    "ExecuteTime": {
     "end_time": "2022-12-07T00:14:06.227314Z",
     "start_time": "2022-12-07T00:14:06.208746Z"
    }
   },
   "outputs": [
    {
     "name": "stdout",
     "output_type": "stream",
     "text": [
      "2161543\n"
     ]
    }
   ],
   "source": [
    "# create file structure path so that code knows where to pull and save data\n",
    "data_folder = os.path.join(os.getcwd(), \"..\", \"raw_data\")\n",
    "all_tracts_df = pd.read_csv(os.path.join(data_folder, 'PLACES__Local_Data_for_Better_Health__Census_Tract_Data_2022_release.csv'))\n",
    "print(len(all_tracts_df))"
   ]
  },
  {
   "cell_type": "code",
   "execution_count": 179,
   "metadata": {},
   "outputs": [
    {
     "data": {
      "text/plain": [
       "array(['Montgomery', 'Allegany', 'Anne Arundel', 'Calvert', 'Carroll',\n",
       "       'Cecil', 'Charles', 'Frederick', 'Garrett', 'Harford', 'Howard',\n",
       "       \"Prince George's\", 'Baltimore City', 'Baltimore', 'Caroline',\n",
       "       'Dorchester', 'Kent', 'Talbot', 'Worcester', \"Queen Anne's\",\n",
       "       'Somerset', \"St. Mary's\", 'Washington', 'Wicomico'], dtype=object)"
      ]
     },
     "execution_count": 179,
     "metadata": {},
     "output_type": "execute_result"
    }
   ],
   "source": [
    "all_tracts_df[(all_tracts_df['StateAbbr']=='MD')].CountyName.unique()"
   ]
  },
  {
   "cell_type": "code",
   "execution_count": 180,
   "metadata": {
    "ExecuteTime": {
     "end_time": "2022-12-07T00:14:07.861221Z",
     "start_time": "2022-12-07T00:14:07.769563Z"
    }
   },
   "outputs": [
    {
     "name": "stdout",
     "output_type": "stream",
     "text": [
      "396\n",
      "396\n",
      "['District of Columbia' \"Prince George's\"]\n",
      "Index(['Year', 'StateAbbr', 'StateDesc', 'CountyName', 'CountyFIPS',\n",
      "       'LocationName', 'DataSource', 'Category', 'Measure', 'Data_Value_Unit',\n",
      "       'Data_Value_Type', 'Data_Value', 'Data_Value_Footnote_Symbol',\n",
      "       'Data_Value_Footnote', 'Low_Confidence_Limit', 'High_Confidence_Limit',\n",
      "       'TotalPopulation', 'Geolocation', 'LocationID', 'CategoryID',\n",
      "       'MeasureId', 'DataValueTypeID', 'Short_Question_Text'],\n",
      "      dtype='object')\n"
     ]
    },
    {
     "data": {
      "text/html": [
       "<div>\n",
       "<style scoped>\n",
       "    .dataframe tbody tr th:only-of-type {\n",
       "        vertical-align: middle;\n",
       "    }\n",
       "\n",
       "    .dataframe tbody tr th {\n",
       "        vertical-align: top;\n",
       "    }\n",
       "\n",
       "    .dataframe thead th {\n",
       "        text-align: right;\n",
       "    }\n",
       "</style>\n",
       "<table border=\"1\" class=\"dataframe\">\n",
       "  <thead>\n",
       "    <tr style=\"text-align: right;\">\n",
       "      <th></th>\n",
       "      <th>Year</th>\n",
       "      <th>StateAbbr</th>\n",
       "      <th>StateDesc</th>\n",
       "      <th>CountyName</th>\n",
       "      <th>CountyFIPS</th>\n",
       "      <th>LocationName</th>\n",
       "      <th>DataSource</th>\n",
       "      <th>Category</th>\n",
       "      <th>Measure</th>\n",
       "      <th>Data_Value_Unit</th>\n",
       "      <th>...</th>\n",
       "      <th>Data_Value_Footnote</th>\n",
       "      <th>Low_Confidence_Limit</th>\n",
       "      <th>High_Confidence_Limit</th>\n",
       "      <th>TotalPopulation</th>\n",
       "      <th>Geolocation</th>\n",
       "      <th>LocationID</th>\n",
       "      <th>CategoryID</th>\n",
       "      <th>MeasureId</th>\n",
       "      <th>DataValueTypeID</th>\n",
       "      <th>Short_Question_Text</th>\n",
       "    </tr>\n",
       "  </thead>\n",
       "  <tbody>\n",
       "    <tr>\n",
       "      <th>409138</th>\n",
       "      <td>2020</td>\n",
       "      <td>DC</td>\n",
       "      <td>District of Columbia</td>\n",
       "      <td>District of Columbia</td>\n",
       "      <td>11001</td>\n",
       "      <td>11001009907</td>\n",
       "      <td>BRFSS</td>\n",
       "      <td>Health Outcomes</td>\n",
       "      <td>Depression among adults aged &gt;=18 years</td>\n",
       "      <td>%</td>\n",
       "      <td>...</td>\n",
       "      <td>NaN</td>\n",
       "      <td>19.6</td>\n",
       "      <td>22.8</td>\n",
       "      <td>2836</td>\n",
       "      <td>POINT (-76.93880536 38.88277252)</td>\n",
       "      <td>11001009907</td>\n",
       "      <td>HLTHOUT</td>\n",
       "      <td>DEPRESSION</td>\n",
       "      <td>CrdPrv</td>\n",
       "      <td>Depression</td>\n",
       "    </tr>\n",
       "    <tr>\n",
       "      <th>409277</th>\n",
       "      <td>2020</td>\n",
       "      <td>DC</td>\n",
       "      <td>District of Columbia</td>\n",
       "      <td>District of Columbia</td>\n",
       "      <td>11001</td>\n",
       "      <td>11001008802</td>\n",
       "      <td>BRFSS</td>\n",
       "      <td>Health Outcomes</td>\n",
       "      <td>Depression among adults aged &gt;=18 years</td>\n",
       "      <td>%</td>\n",
       "      <td>...</td>\n",
       "      <td>NaN</td>\n",
       "      <td>17.1</td>\n",
       "      <td>19.7</td>\n",
       "      <td>4119</td>\n",
       "      <td>POINT (-76.98664548 38.90394304)</td>\n",
       "      <td>11001008802</td>\n",
       "      <td>HLTHOUT</td>\n",
       "      <td>DEPRESSION</td>\n",
       "      <td>CrdPrv</td>\n",
       "      <td>Depression</td>\n",
       "    </tr>\n",
       "    <tr>\n",
       "      <th>409333</th>\n",
       "      <td>2020</td>\n",
       "      <td>DC</td>\n",
       "      <td>District of Columbia</td>\n",
       "      <td>District of Columbia</td>\n",
       "      <td>11001</td>\n",
       "      <td>11001005900</td>\n",
       "      <td>BRFSS</td>\n",
       "      <td>Health Outcomes</td>\n",
       "      <td>Depression among adults aged &gt;=18 years</td>\n",
       "      <td>%</td>\n",
       "      <td>...</td>\n",
       "      <td>NaN</td>\n",
       "      <td>20.5</td>\n",
       "      <td>23.9</td>\n",
       "      <td>2998</td>\n",
       "      <td>POINT (-77.01493498 38.89602518)</td>\n",
       "      <td>11001005900</td>\n",
       "      <td>HLTHOUT</td>\n",
       "      <td>DEPRESSION</td>\n",
       "      <td>CrdPrv</td>\n",
       "      <td>Depression</td>\n",
       "    </tr>\n",
       "    <tr>\n",
       "      <th>409404</th>\n",
       "      <td>2020</td>\n",
       "      <td>DC</td>\n",
       "      <td>District of Columbia</td>\n",
       "      <td>District of Columbia</td>\n",
       "      <td>11001</td>\n",
       "      <td>11001002900</td>\n",
       "      <td>BRFSS</td>\n",
       "      <td>Health Outcomes</td>\n",
       "      <td>Depression among adults aged &gt;=18 years</td>\n",
       "      <td>%</td>\n",
       "      <td>...</td>\n",
       "      <td>NaN</td>\n",
       "      <td>18.2</td>\n",
       "      <td>20.7</td>\n",
       "      <td>3962</td>\n",
       "      <td>POINT (-77.02991535 38.93383163)</td>\n",
       "      <td>11001002900</td>\n",
       "      <td>HLTHOUT</td>\n",
       "      <td>DEPRESSION</td>\n",
       "      <td>CrdPrv</td>\n",
       "      <td>Depression</td>\n",
       "    </tr>\n",
       "    <tr>\n",
       "      <th>409470</th>\n",
       "      <td>2020</td>\n",
       "      <td>DC</td>\n",
       "      <td>District of Columbia</td>\n",
       "      <td>District of Columbia</td>\n",
       "      <td>11001</td>\n",
       "      <td>11001003302</td>\n",
       "      <td>BRFSS</td>\n",
       "      <td>Health Outcomes</td>\n",
       "      <td>Depression among adults aged &gt;=18 years</td>\n",
       "      <td>%</td>\n",
       "      <td>...</td>\n",
       "      <td>NaN</td>\n",
       "      <td>17.6</td>\n",
       "      <td>19.5</td>\n",
       "      <td>2134</td>\n",
       "      <td>POINT (-77.0112185 38.91392309)</td>\n",
       "      <td>11001003302</td>\n",
       "      <td>HLTHOUT</td>\n",
       "      <td>DEPRESSION</td>\n",
       "      <td>CrdPrv</td>\n",
       "      <td>Depression</td>\n",
       "    </tr>\n",
       "  </tbody>\n",
       "</table>\n",
       "<p>5 rows × 23 columns</p>\n",
       "</div>"
      ],
      "text/plain": [
       "        Year StateAbbr             StateDesc            CountyName  \\\n",
       "409138  2020        DC  District of Columbia  District of Columbia   \n",
       "409277  2020        DC  District of Columbia  District of Columbia   \n",
       "409333  2020        DC  District of Columbia  District of Columbia   \n",
       "409404  2020        DC  District of Columbia  District of Columbia   \n",
       "409470  2020        DC  District of Columbia  District of Columbia   \n",
       "\n",
       "        CountyFIPS  LocationName DataSource         Category  \\\n",
       "409138       11001   11001009907      BRFSS  Health Outcomes   \n",
       "409277       11001   11001008802      BRFSS  Health Outcomes   \n",
       "409333       11001   11001005900      BRFSS  Health Outcomes   \n",
       "409404       11001   11001002900      BRFSS  Health Outcomes   \n",
       "409470       11001   11001003302      BRFSS  Health Outcomes   \n",
       "\n",
       "                                        Measure Data_Value_Unit  ...  \\\n",
       "409138  Depression among adults aged >=18 years               %  ...   \n",
       "409277  Depression among adults aged >=18 years               %  ...   \n",
       "409333  Depression among adults aged >=18 years               %  ...   \n",
       "409404  Depression among adults aged >=18 years               %  ...   \n",
       "409470  Depression among adults aged >=18 years               %  ...   \n",
       "\n",
       "       Data_Value_Footnote  Low_Confidence_Limit  High_Confidence_Limit  \\\n",
       "409138                 NaN                  19.6                   22.8   \n",
       "409277                 NaN                  17.1                   19.7   \n",
       "409333                 NaN                  20.5                   23.9   \n",
       "409404                 NaN                  18.2                   20.7   \n",
       "409470                 NaN                  17.6                   19.5   \n",
       "\n",
       "        TotalPopulation                       Geolocation   LocationID  \\\n",
       "409138             2836  POINT (-76.93880536 38.88277252)  11001009907   \n",
       "409277             4119  POINT (-76.98664548 38.90394304)  11001008802   \n",
       "409333             2998  POINT (-77.01493498 38.89602518)  11001005900   \n",
       "409404             3962  POINT (-77.02991535 38.93383163)  11001002900   \n",
       "409470             2134   POINT (-77.0112185 38.91392309)  11001003302   \n",
       "\n",
       "        CategoryID   MeasureId DataValueTypeID Short_Question_Text  \n",
       "409138     HLTHOUT  DEPRESSION          CrdPrv          Depression  \n",
       "409277     HLTHOUT  DEPRESSION          CrdPrv          Depression  \n",
       "409333     HLTHOUT  DEPRESSION          CrdPrv          Depression  \n",
       "409404     HLTHOUT  DEPRESSION          CrdPrv          Depression  \n",
       "409470     HLTHOUT  DEPRESSION          CrdPrv          Depression  \n",
       "\n",
       "[5 rows x 23 columns]"
      ]
     },
     "execution_count": 180,
     "metadata": {},
     "output_type": "execute_result"
    }
   ],
   "source": [
    "# set the subset year\n",
    "subset_year = 2020\n",
    "\n",
    "# ----- SET ALL THE FILTERS THAT WE'LL APPLY TO THE DATA -----\n",
    "year_filter = (all_tracts_df.Year == subset_year)\n",
    "md_filter = (all_tracts_df['StateAbbr']=='MD') & (all_tracts_df['CountyName']==\"Prince George's\")\n",
    "dc_filter = (all_tracts_df['StateAbbr']=='DC')\n",
    "location_filter = (md_filter | dc_filter)\n",
    "measure_filter = (all_tracts_df.Measure.str.contains('Depress'))\n",
    "\n",
    "# subset this to depression data for DC and PG county Maryland\n",
    "depression_data = all_tracts_df[year_filter & location_filter & measure_filter].copy(deep=True)\n",
    "\n",
    "# convert LocationID so that it's a string\n",
    "depression_data['LocationID'] = depression_data['LocationID'].astype(str)\n",
    "\n",
    "# sanity check\n",
    "print(len(depression_data))\n",
    "print(depression_data.LocationID.nunique())\n",
    "print(depression_data.CountyName.unique())\n",
    "print(depression_data.columns)\n",
    "depression_data.head()"
   ]
  },
  {
   "cell_type": "markdown",
   "metadata": {},
   "source": [
    "# Join with Walkability Score\n",
    "**Instructions:** Download this file: https://drive.google.com/file/d/1zsM0PqBa5usr1QK64BRZ4Z6-0S0V9kfy/view\n",
    "\n",
    "* Data source: https://catalog.data.gov/dataset/walkability-index\n",
    "\n",
    "Since this provides walkability scores on the **block** level (more granular than tract) and the rest of our data is on the **tract** level, we will be taking the median score across all blocks within one tract"
   ]
  },
  {
   "cell_type": "code",
   "execution_count": 181,
   "metadata": {},
   "outputs": [],
   "source": [
    "walk_score = pd.read_csv(os.path.join(data_folder, \"National Walkability Index Data.csv\"))\n",
    "# create the location id aka census tract id by concatenating state, county, and tract\n",
    "walk_score['location_id'] = walk_score['STATEFP'].astype(str).str.zfill(2) + walk_score['COUNTYFP'].astype(str).str.zfill(3) + walk_score['TRACTCE'].astype(str).str.zfill(6)\n",
    "# group by census tracts\n",
    "median_walk_by_tract = walk_score.groupby([\"location_id\"])[\"NatWalkInd\"].median().reset_index().rename({'NatWalkInd':'Median_NatWalkInd'}, axis='columns')\n",
    "mean_walk_by_tract = walk_score.groupby([\"location_id\"])[\"NatWalkInd\"].mean().reset_index().rename({'NatWalkInd':'Mean_NatWalkInd'}, axis='columns')"
   ]
  },
  {
   "cell_type": "markdown",
   "metadata": {},
   "source": [
    "# Join with CRE Equity Data\n",
    "**Instructions**: Download [this file](https://drive.google.com/file/d/1m_4iSNWri-zay_ltKeTS4ndoosMi7T8r/view?usp=share_link) and then save in the 'raw_data' folder created above. \n",
    "* Data source: https://www.census.gov/programs-surveys/community-resilience-estimates/data/supplement.html\n",
    "  * Granularity = \"Tract\""
   ]
  },
  {
   "cell_type": "code",
   "execution_count": 182,
   "metadata": {
    "ExecuteTime": {
     "end_time": "2022-12-07T00:16:22.106174Z",
     "start_time": "2022-12-07T00:16:21.103061Z"
    }
   },
   "outputs": [],
   "source": [
    "# read in the file\n",
    "cre_equity = pd.read_csv(os.path.join(data_folder, 'CRE_Equity_Tract_19.csv'), encoding='latin1')\n",
    "# get the last 11 characters of the GEO_ID which contains the census tract\n",
    "cre_equity['location_id'] = cre_equity['GEO_ID'].apply(lambda x: x[-11:]).astype(str)"
   ]
  },
  {
   "cell_type": "code",
   "execution_count": 196,
   "metadata": {},
   "outputs": [
    {
     "data": {
      "text/plain": [
       "0    Census Tract 201, Autauga County, Alabama\n",
       "1    Census Tract 202, Autauga County, Alabama\n",
       "2    Census Tract 203, Autauga County, Alabama\n",
       "3    Census Tract 204, Autauga County, Alabama\n",
       "4    Census Tract 205, Autauga County, Alabama\n",
       "Name: NAME, dtype: object"
      ]
     },
     "execution_count": 196,
     "metadata": {},
     "output_type": "execute_result"
    }
   ],
   "source": [
    "list(cre_equity.columns)\n",
    "cre_equity.NAME.head()"
   ]
  },
  {
   "cell_type": "code",
   "execution_count": 183,
   "metadata": {},
   "outputs": [],
   "source": [
    "# join the depression file and the census tract file\n",
    "joined_file = depression_data.merge(cre_equity, left_on = 'LocationID', right_on = 'location_id', how = 'inner')"
   ]
  },
  {
   "cell_type": "code",
   "execution_count": 184,
   "metadata": {},
   "outputs": [
    {
     "data": {
      "text/plain": [
       "396"
      ]
     },
     "execution_count": 184,
     "metadata": {},
     "output_type": "execute_result"
    }
   ],
   "source": [
    "# join with the walkability data\n",
    "joined_file = joined_file.merge(median_walk_by_tract, left_on='LocationID', right_on='location_id', how = 'left')\n",
    "len(joined_file)"
   ]
  },
  {
   "cell_type": "code",
   "execution_count": 197,
   "metadata": {},
   "outputs": [
    {
     "data": {
      "text/plain": [
       "0    Census Tract 99.07, District of Columbia, Dist...\n",
       "1    Census Tract 88.02, District of Columbia, Dist...\n",
       "2    Census Tract 59, District of Columbia, Distric...\n",
       "3    Census Tract 29, District of Columbia, Distric...\n",
       "4    Census Tract 33.02, District of Columbia, Dist...\n",
       "Name: NAME, dtype: object"
      ]
     },
     "execution_count": 197,
     "metadata": {},
     "output_type": "execute_result"
    }
   ],
   "source": [
    "# joined_file.head()\n",
    "list(joined_file.columns)\n",
    "joined_file.NAME.head()\n",
    "# depression_data.columns\n",
    "# depression_data[['Measure', 'Data_Value_Unit',\n",
    "#        'Data_Value_Type', 'Data_Value', 'Data_Value_Footnote_Symbol']]"
   ]
  },
  {
   "cell_type": "markdown",
   "metadata": {},
   "source": [
    "# Clean up for final file format"
   ]
  },
  {
   "cell_type": "code",
   "execution_count": 202,
   "metadata": {},
   "outputs": [],
   "source": [
    "rename_cols = {'LocationID': 'census_tract_id',\n",
    "                'NAME': 'census_tract_name',\n",
    "                'Data_Value': 'depressed_perc',\n",
    "                 'NH_Black_alone_PE':'black_non_hisp_perc',\n",
    "                 'NH_White_alone_PE':'white_non_hisp_perc',\n",
    "                 'Hispanic_PE':'hispanic_latino_perc',\n",
    "                 'PRED3_PE':'3_plus_cre_risk_factors_perc',\n",
    "                 'Blw_Pov_Lvl_PE':'below_poverty_level_perc',\n",
    "                 'No_Health_Ins_PE':'no_health_insurance_perc',\n",
    "                 'Male_PE':'male_perc',\n",
    "                 'Female_PE':'female_perc',\n",
    "                 'GINI_IND_Inequality_E':'income_inequality_gini_index',\n",
    "                 'HS_Grad_PE':'hs_grad_perc',\n",
    "                 'No_Veh_PE':'households_no_vehicle_perc',\n",
    "                 'Broadband_PE':'households_w_internet_perc',\n",
    "               'Median_NatWalkInd':'walkability_score'\n",
    "                }\n",
    "\n",
    "clean_joined_file = joined_file.rename(rename_cols, axis='columns')\n",
    "clean_joined_file = clean_joined_file[rename_cols.values()]"
   ]
  },
  {
   "cell_type": "code",
   "execution_count": 206,
   "metadata": {},
   "outputs": [
    {
     "name": "stdout",
     "output_type": "stream",
     "text": [
      "396\n"
     ]
    },
    {
     "data": {
      "text/html": [
       "<div>\n",
       "<style scoped>\n",
       "    .dataframe tbody tr th:only-of-type {\n",
       "        vertical-align: middle;\n",
       "    }\n",
       "\n",
       "    .dataframe tbody tr th {\n",
       "        vertical-align: top;\n",
       "    }\n",
       "\n",
       "    .dataframe thead th {\n",
       "        text-align: right;\n",
       "    }\n",
       "</style>\n",
       "<table border=\"1\" class=\"dataframe\">\n",
       "  <thead>\n",
       "    <tr style=\"text-align: right;\">\n",
       "      <th></th>\n",
       "      <th>census_tract_id</th>\n",
       "      <th>census_tract_name</th>\n",
       "      <th>depressed_perc</th>\n",
       "      <th>black_non_hisp_perc</th>\n",
       "      <th>white_non_hisp_perc</th>\n",
       "      <th>hispanic_latino_perc</th>\n",
       "      <th>3_plus_cre_risk_factors_perc</th>\n",
       "      <th>below_poverty_level_perc</th>\n",
       "      <th>no_health_insurance_perc</th>\n",
       "      <th>male_perc</th>\n",
       "      <th>female_perc</th>\n",
       "      <th>income_inequality_gini_index</th>\n",
       "      <th>hs_grad_perc</th>\n",
       "      <th>households_no_vehicle_perc</th>\n",
       "      <th>households_w_internet_perc</th>\n",
       "      <th>walkability_score</th>\n",
       "    </tr>\n",
       "  </thead>\n",
       "  <tbody>\n",
       "    <tr>\n",
       "      <th>0</th>\n",
       "      <td>11001009907</td>\n",
       "      <td>Census Tract 99.07, District of Columbia, Dist...</td>\n",
       "      <td>21.1</td>\n",
       "      <td>97.5</td>\n",
       "      <td>0.4</td>\n",
       "      <td>2.0</td>\n",
       "      <td>28.85</td>\n",
       "      <td>19.9</td>\n",
       "      <td>7.6</td>\n",
       "      <td>40.0</td>\n",
       "      <td>60.0</td>\n",
       "      <td>0.4280</td>\n",
       "      <td>88.6</td>\n",
       "      <td>54.3</td>\n",
       "      <td>64.4</td>\n",
       "      <td>12.250000</td>\n",
       "    </tr>\n",
       "    <tr>\n",
       "      <th>1</th>\n",
       "      <td>11001008802</td>\n",
       "      <td>Census Tract 88.02, District of Columbia, Dist...</td>\n",
       "      <td>18.3</td>\n",
       "      <td>68.7</td>\n",
       "      <td>25.6</td>\n",
       "      <td>2.7</td>\n",
       "      <td>35.38</td>\n",
       "      <td>19.7</td>\n",
       "      <td>4.3</td>\n",
       "      <td>51.1</td>\n",
       "      <td>48.9</td>\n",
       "      <td>0.4983</td>\n",
       "      <td>86.0</td>\n",
       "      <td>34.2</td>\n",
       "      <td>72.8</td>\n",
       "      <td>13.500000</td>\n",
       "    </tr>\n",
       "    <tr>\n",
       "      <th>2</th>\n",
       "      <td>11001005900</td>\n",
       "      <td>Census Tract 59, District of Columbia, Distric...</td>\n",
       "      <td>22.1</td>\n",
       "      <td>22.4</td>\n",
       "      <td>50.8</td>\n",
       "      <td>8.6</td>\n",
       "      <td>17.12</td>\n",
       "      <td>27.7</td>\n",
       "      <td>4.6</td>\n",
       "      <td>52.6</td>\n",
       "      <td>47.4</td>\n",
       "      <td>0.5047</td>\n",
       "      <td>90.7</td>\n",
       "      <td>61.1</td>\n",
       "      <td>82.6</td>\n",
       "      <td>16.500000</td>\n",
       "    </tr>\n",
       "    <tr>\n",
       "      <th>3</th>\n",
       "      <td>11001002900</td>\n",
       "      <td>Census Tract 29, District of Columbia, Distric...</td>\n",
       "      <td>19.3</td>\n",
       "      <td>19.6</td>\n",
       "      <td>47.1</td>\n",
       "      <td>25.0</td>\n",
       "      <td>13.98</td>\n",
       "      <td>8.2</td>\n",
       "      <td>7.8</td>\n",
       "      <td>50.1</td>\n",
       "      <td>49.9</td>\n",
       "      <td>0.4526</td>\n",
       "      <td>85.6</td>\n",
       "      <td>38.2</td>\n",
       "      <td>88.4</td>\n",
       "      <td>16.166667</td>\n",
       "    </tr>\n",
       "    <tr>\n",
       "      <th>4</th>\n",
       "      <td>11001003302</td>\n",
       "      <td>Census Tract 33.02, District of Columbia, Dist...</td>\n",
       "      <td>18.5</td>\n",
       "      <td>37.6</td>\n",
       "      <td>48.7</td>\n",
       "      <td>5.2</td>\n",
       "      <td>9.09</td>\n",
       "      <td>9.3</td>\n",
       "      <td>1.4</td>\n",
       "      <td>46.3</td>\n",
       "      <td>53.7</td>\n",
       "      <td>0.3496</td>\n",
       "      <td>97.3</td>\n",
       "      <td>12.4</td>\n",
       "      <td>89.9</td>\n",
       "      <td>15.750000</td>\n",
       "    </tr>\n",
       "  </tbody>\n",
       "</table>\n",
       "</div>"
      ],
      "text/plain": [
       "  census_tract_id                                  census_tract_name  \\\n",
       "0     11001009907  Census Tract 99.07, District of Columbia, Dist...   \n",
       "1     11001008802  Census Tract 88.02, District of Columbia, Dist...   \n",
       "2     11001005900  Census Tract 59, District of Columbia, Distric...   \n",
       "3     11001002900  Census Tract 29, District of Columbia, Distric...   \n",
       "4     11001003302  Census Tract 33.02, District of Columbia, Dist...   \n",
       "\n",
       "   depressed_perc  black_non_hisp_perc  white_non_hisp_perc  \\\n",
       "0            21.1                 97.5                  0.4   \n",
       "1            18.3                 68.7                 25.6   \n",
       "2            22.1                 22.4                 50.8   \n",
       "3            19.3                 19.6                 47.1   \n",
       "4            18.5                 37.6                 48.7   \n",
       "\n",
       "   hispanic_latino_perc  3_plus_cre_risk_factors_perc  \\\n",
       "0                   2.0                         28.85   \n",
       "1                   2.7                         35.38   \n",
       "2                   8.6                         17.12   \n",
       "3                  25.0                         13.98   \n",
       "4                   5.2                          9.09   \n",
       "\n",
       "   below_poverty_level_perc  no_health_insurance_perc  male_perc  female_perc  \\\n",
       "0                      19.9                       7.6       40.0         60.0   \n",
       "1                      19.7                       4.3       51.1         48.9   \n",
       "2                      27.7                       4.6       52.6         47.4   \n",
       "3                       8.2                       7.8       50.1         49.9   \n",
       "4                       9.3                       1.4       46.3         53.7   \n",
       "\n",
       "   income_inequality_gini_index  hs_grad_perc  households_no_vehicle_perc  \\\n",
       "0                        0.4280          88.6                        54.3   \n",
       "1                        0.4983          86.0                        34.2   \n",
       "2                        0.5047          90.7                        61.1   \n",
       "3                        0.4526          85.6                        38.2   \n",
       "4                        0.3496          97.3                        12.4   \n",
       "\n",
       "   households_w_internet_perc  walkability_score  \n",
       "0                        64.4          12.250000  \n",
       "1                        72.8          13.500000  \n",
       "2                        82.6          16.500000  \n",
       "3                        88.4          16.166667  \n",
       "4                        89.9          15.750000  "
      ]
     },
     "execution_count": 206,
     "metadata": {},
     "output_type": "execute_result"
    }
   ],
   "source": [
    "# write file and then add / update to this Google Drive folder: https://drive.google.com/drive/folders/19RfOfSc8TWcXz4FyNEEg8ixJrkYcYJ0W\n",
    "clean_joined_file.to_csv(os.path.join(data_folder, 'joined_depression_cre.csv'), index=False)\n",
    "print(len(clean_joined_file))\n",
    "clean_joined_file.head()"
   ]
  }
 ],
 "metadata": {
  "kernelspec": {
   "display_name": "Python 3 (ipykernel)",
   "language": "python",
   "name": "python3"
  },
  "language_info": {
   "codemirror_mode": {
    "name": "ipython",
    "version": 3
   },
   "file_extension": ".py",
   "mimetype": "text/x-python",
   "name": "python",
   "nbconvert_exporter": "python",
   "pygments_lexer": "ipython3",
   "version": "3.9.12"
  },
  "vscode": {
   "interpreter": {
    "hash": "aee8b7b246df8f9039afb4144a1f6fd8d2ca17a180786b69acc140d282b71a49"
   }
  }
 },
 "nbformat": 4,
 "nbformat_minor": 2
}
